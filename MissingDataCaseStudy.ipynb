{
 "cells": [
  {
   "cell_type": "code",
   "execution_count": 1,
   "metadata": {},
   "outputs": [],
   "source": [
    "import pandas as pd\n",
    "import numpy as np\n",
    "from sklearn.linear_model import LinearRegression\n",
    "from sklearn.metrics import mean_squared_error, r2_score, mean_absolute_error\n",
    "from ml_metrics import rmse\n",
    "import matplotlib.pyplot as plt\n",
    "from sklearn.datasets import load_boston"
   ]
  },
  {
   "cell_type": "code",
   "execution_count": 2,
   "metadata": {},
   "outputs": [
    {
     "output_type": "execute_result",
     "data": {
      "text/plain": "<matplotlib.axes._subplots.AxesSubplot at 0x1a25715f188>"
     },
     "metadata": {},
     "execution_count": 2
    },
    {
     "output_type": "display_data",
     "data": {
      "text/plain": "<Figure size 432x288 with 1 Axes>",
      "image/svg+xml": "<?xml version=\"1.0\" encoding=\"utf-8\" standalone=\"no\"?>\r\n<!DOCTYPE svg PUBLIC \"-//W3C//DTD SVG 1.1//EN\"\r\n  \"http://www.w3.org/Graphics/SVG/1.1/DTD/svg11.dtd\">\r\n<!-- Created with matplotlib (https://matplotlib.org/) -->\r\n<svg height=\"248.518125pt\" version=\"1.1\" viewBox=\"0 0 375.2875 248.518125\" width=\"375.2875pt\" xmlns=\"http://www.w3.org/2000/svg\" xmlns:xlink=\"http://www.w3.org/1999/xlink\">\r\n <defs>\r\n  <style type=\"text/css\">\r\n*{stroke-linecap:butt;stroke-linejoin:round;}\r\n  </style>\r\n </defs>\r\n <g id=\"figure_1\">\r\n  <g id=\"patch_1\">\r\n   <path d=\"M 0 248.518125 \r\nL 375.2875 248.518125 \r\nL 375.2875 0 \r\nL 0 0 \r\nz\r\n\" style=\"fill:none;\"/>\r\n  </g>\r\n  <g id=\"axes_1\">\r\n   <g id=\"patch_2\">\r\n    <path d=\"M 33.2875 224.64 \r\nL 368.0875 224.64 \r\nL 368.0875 7.2 \r\nL 33.2875 7.2 \r\nz\r\n\" style=\"fill:#ffffff;\"/>\r\n   </g>\r\n   <g id=\"patch_3\">\r\n    <path clip-path=\"url(#pa8be55f682)\" d=\"M 48.505682 224.64 \r\nL 78.942045 224.64 \r\nL 78.942045 207.382857 \r\nL 48.505682 207.382857 \r\nz\r\n\" style=\"fill:#1f77b4;\"/>\r\n   </g>\r\n   <g id=\"patch_4\">\r\n    <path clip-path=\"url(#pa8be55f682)\" d=\"M 78.942045 224.64 \r\nL 109.378409 224.64 \r\nL 109.378409 186.427755 \r\nL 78.942045 186.427755 \r\nz\r\n\" style=\"fill:#1f77b4;\"/>\r\n   </g>\r\n   <g id=\"patch_5\">\r\n    <path clip-path=\"url(#pa8be55f682)\" d=\"M 109.378409 224.64 \r\nL 139.814773 224.64 \r\nL 139.814773 188.893061 \r\nL 109.378409 188.893061 \r\nz\r\n\" style=\"fill:#1f77b4;\"/>\r\n   </g>\r\n   <g id=\"patch_6\">\r\n    <path clip-path=\"url(#pa8be55f682)\" d=\"M 139.814773 224.64 \r\nL 170.251136 224.64 \r\nL 170.251136 172.868571 \r\nL 139.814773 172.868571 \r\nz\r\n\" style=\"fill:#1f77b4;\"/>\r\n   </g>\r\n   <g id=\"patch_7\">\r\n    <path clip-path=\"url(#pa8be55f682)\" d=\"M 170.251136 224.64 \r\nL 200.6875 224.64 \r\nL 200.6875 185.195102 \r\nL 170.251136 185.195102 \r\nz\r\n\" style=\"fill:#1f77b4;\"/>\r\n   </g>\r\n   <g id=\"patch_8\">\r\n    <path clip-path=\"url(#pa8be55f682)\" d=\"M 200.6875 224.64 \r\nL 231.123864 224.64 \r\nL 231.123864 177.799184 \r\nL 200.6875 177.799184 \r\nz\r\n\" style=\"fill:#1f77b4;\"/>\r\n   </g>\r\n   <g id=\"patch_9\">\r\n    <path clip-path=\"url(#pa8be55f682)\" d=\"M 231.123864 224.64 \r\nL 261.560227 224.64 \r\nL 261.560227 176.566531 \r\nL 231.123864 176.566531 \r\nz\r\n\" style=\"fill:#1f77b4;\"/>\r\n   </g>\r\n   <g id=\"patch_10\">\r\n    <path clip-path=\"url(#pa8be55f682)\" d=\"M 261.560227 224.64 \r\nL 291.996591 224.64 \r\nL 291.996591 172.868571 \r\nL 261.560227 172.868571 \r\nz\r\n\" style=\"fill:#1f77b4;\"/>\r\n   </g>\r\n   <g id=\"patch_11\">\r\n    <path clip-path=\"url(#pa8be55f682)\" d=\"M 291.996591 224.64 \r\nL 322.432955 224.64 \r\nL 322.432955 137.121633 \r\nL 291.996591 137.121633 \r\nz\r\n\" style=\"fill:#1f77b4;\"/>\r\n   </g>\r\n   <g id=\"patch_12\">\r\n    <path clip-path=\"url(#pa8be55f682)\" d=\"M 322.432955 224.64 \r\nL 352.869318 224.64 \r\nL 352.869318 17.554286 \r\nL 322.432955 17.554286 \r\nz\r\n\" style=\"fill:#1f77b4;\"/>\r\n   </g>\r\n   <g id=\"matplotlib.axis_1\">\r\n    <g id=\"xtick_1\">\r\n     <g id=\"line2d_1\">\r\n      <path clip-path=\"url(#pa8be55f682)\" d=\"M 39.415522 224.64 \r\nL 39.415522 7.2 \r\n\" style=\"fill:none;stroke:#b0b0b0;stroke-linecap:square;stroke-width:0.8;\"/>\r\n     </g>\r\n     <g id=\"line2d_2\">\r\n      <defs>\r\n       <path d=\"M 0 0 \r\nL 0 3.5 \r\n\" id=\"m0c45cb1d86\" style=\"stroke:#000000;stroke-width:0.8;\"/>\r\n      </defs>\r\n      <g>\r\n       <use style=\"stroke:#000000;stroke-width:0.8;\" x=\"39.415522\" xlink:href=\"#m0c45cb1d86\" y=\"224.64\"/>\r\n      </g>\r\n     </g>\r\n     <g id=\"text_1\">\r\n      <!-- 0 -->\r\n      <defs>\r\n       <path d=\"M 31.78125 66.40625 \r\nQ 24.171875 66.40625 20.328125 58.90625 \r\nQ 16.5 51.421875 16.5 36.375 \r\nQ 16.5 21.390625 20.328125 13.890625 \r\nQ 24.171875 6.390625 31.78125 6.390625 \r\nQ 39.453125 6.390625 43.28125 13.890625 \r\nQ 47.125 21.390625 47.125 36.375 \r\nQ 47.125 51.421875 43.28125 58.90625 \r\nQ 39.453125 66.40625 31.78125 66.40625 \r\nz\r\nM 31.78125 74.21875 \r\nQ 44.046875 74.21875 50.515625 64.515625 \r\nQ 56.984375 54.828125 56.984375 36.375 \r\nQ 56.984375 17.96875 50.515625 8.265625 \r\nQ 44.046875 -1.421875 31.78125 -1.421875 \r\nQ 19.53125 -1.421875 13.0625 8.265625 \r\nQ 6.59375 17.96875 6.59375 36.375 \r\nQ 6.59375 54.828125 13.0625 64.515625 \r\nQ 19.53125 74.21875 31.78125 74.21875 \r\nz\r\n\" id=\"DejaVuSans-48\"/>\r\n      </defs>\r\n      <g transform=\"translate(36.234272 239.238437)scale(0.1 -0.1)\">\r\n       <use xlink:href=\"#DejaVuSans-48\"/>\r\n      </g>\r\n     </g>\r\n    </g>\r\n    <g id=\"xtick_2\">\r\n     <g id=\"line2d_3\">\r\n      <path clip-path=\"url(#pa8be55f682)\" d=\"M 102.106281 224.64 \r\nL 102.106281 7.2 \r\n\" style=\"fill:none;stroke:#b0b0b0;stroke-linecap:square;stroke-width:0.8;\"/>\r\n     </g>\r\n     <g id=\"line2d_4\">\r\n      <g>\r\n       <use style=\"stroke:#000000;stroke-width:0.8;\" x=\"102.106281\" xlink:href=\"#m0c45cb1d86\" y=\"224.64\"/>\r\n      </g>\r\n     </g>\r\n     <g id=\"text_2\">\r\n      <!-- 20 -->\r\n      <defs>\r\n       <path d=\"M 19.1875 8.296875 \r\nL 53.609375 8.296875 \r\nL 53.609375 0 \r\nL 7.328125 0 \r\nL 7.328125 8.296875 \r\nQ 12.9375 14.109375 22.625 23.890625 \r\nQ 32.328125 33.6875 34.8125 36.53125 \r\nQ 39.546875 41.84375 41.421875 45.53125 \r\nQ 43.3125 49.21875 43.3125 52.78125 \r\nQ 43.3125 58.59375 39.234375 62.25 \r\nQ 35.15625 65.921875 28.609375 65.921875 \r\nQ 23.96875 65.921875 18.8125 64.3125 \r\nQ 13.671875 62.703125 7.8125 59.421875 \r\nL 7.8125 69.390625 \r\nQ 13.765625 71.78125 18.9375 73 \r\nQ 24.125 74.21875 28.421875 74.21875 \r\nQ 39.75 74.21875 46.484375 68.546875 \r\nQ 53.21875 62.890625 53.21875 53.421875 \r\nQ 53.21875 48.921875 51.53125 44.890625 \r\nQ 49.859375 40.875 45.40625 35.40625 \r\nQ 44.1875 33.984375 37.640625 27.21875 \r\nQ 31.109375 20.453125 19.1875 8.296875 \r\nz\r\n\" id=\"DejaVuSans-50\"/>\r\n      </defs>\r\n      <g transform=\"translate(95.743781 239.238437)scale(0.1 -0.1)\">\r\n       <use xlink:href=\"#DejaVuSans-50\"/>\r\n       <use x=\"63.623047\" xlink:href=\"#DejaVuSans-48\"/>\r\n      </g>\r\n     </g>\r\n    </g>\r\n    <g id=\"xtick_3\">\r\n     <g id=\"line2d_5\">\r\n      <path clip-path=\"url(#pa8be55f682)\" d=\"M 164.79704 224.64 \r\nL 164.79704 7.2 \r\n\" style=\"fill:none;stroke:#b0b0b0;stroke-linecap:square;stroke-width:0.8;\"/>\r\n     </g>\r\n     <g id=\"line2d_6\">\r\n      <g>\r\n       <use style=\"stroke:#000000;stroke-width:0.8;\" x=\"164.79704\" xlink:href=\"#m0c45cb1d86\" y=\"224.64\"/>\r\n      </g>\r\n     </g>\r\n     <g id=\"text_3\">\r\n      <!-- 40 -->\r\n      <defs>\r\n       <path d=\"M 37.796875 64.3125 \r\nL 12.890625 25.390625 \r\nL 37.796875 25.390625 \r\nz\r\nM 35.203125 72.90625 \r\nL 47.609375 72.90625 \r\nL 47.609375 25.390625 \r\nL 58.015625 25.390625 \r\nL 58.015625 17.1875 \r\nL 47.609375 17.1875 \r\nL 47.609375 0 \r\nL 37.796875 0 \r\nL 37.796875 17.1875 \r\nL 4.890625 17.1875 \r\nL 4.890625 26.703125 \r\nz\r\n\" id=\"DejaVuSans-52\"/>\r\n      </defs>\r\n      <g transform=\"translate(158.43454 239.238437)scale(0.1 -0.1)\">\r\n       <use xlink:href=\"#DejaVuSans-52\"/>\r\n       <use x=\"63.623047\" xlink:href=\"#DejaVuSans-48\"/>\r\n      </g>\r\n     </g>\r\n    </g>\r\n    <g id=\"xtick_4\">\r\n     <g id=\"line2d_7\">\r\n      <path clip-path=\"url(#pa8be55f682)\" d=\"M 227.4878 224.64 \r\nL 227.4878 7.2 \r\n\" style=\"fill:none;stroke:#b0b0b0;stroke-linecap:square;stroke-width:0.8;\"/>\r\n     </g>\r\n     <g id=\"line2d_8\">\r\n      <g>\r\n       <use style=\"stroke:#000000;stroke-width:0.8;\" x=\"227.4878\" xlink:href=\"#m0c45cb1d86\" y=\"224.64\"/>\r\n      </g>\r\n     </g>\r\n     <g id=\"text_4\">\r\n      <!-- 60 -->\r\n      <defs>\r\n       <path d=\"M 33.015625 40.375 \r\nQ 26.375 40.375 22.484375 35.828125 \r\nQ 18.609375 31.296875 18.609375 23.390625 \r\nQ 18.609375 15.53125 22.484375 10.953125 \r\nQ 26.375 6.390625 33.015625 6.390625 \r\nQ 39.65625 6.390625 43.53125 10.953125 \r\nQ 47.40625 15.53125 47.40625 23.390625 \r\nQ 47.40625 31.296875 43.53125 35.828125 \r\nQ 39.65625 40.375 33.015625 40.375 \r\nz\r\nM 52.59375 71.296875 \r\nL 52.59375 62.3125 \r\nQ 48.875 64.0625 45.09375 64.984375 \r\nQ 41.3125 65.921875 37.59375 65.921875 \r\nQ 27.828125 65.921875 22.671875 59.328125 \r\nQ 17.53125 52.734375 16.796875 39.40625 \r\nQ 19.671875 43.65625 24.015625 45.921875 \r\nQ 28.375 48.1875 33.59375 48.1875 \r\nQ 44.578125 48.1875 50.953125 41.515625 \r\nQ 57.328125 34.859375 57.328125 23.390625 \r\nQ 57.328125 12.15625 50.6875 5.359375 \r\nQ 44.046875 -1.421875 33.015625 -1.421875 \r\nQ 20.359375 -1.421875 13.671875 8.265625 \r\nQ 6.984375 17.96875 6.984375 36.375 \r\nQ 6.984375 53.65625 15.1875 63.9375 \r\nQ 23.390625 74.21875 37.203125 74.21875 \r\nQ 40.921875 74.21875 44.703125 73.484375 \r\nQ 48.484375 72.75 52.59375 71.296875 \r\nz\r\n\" id=\"DejaVuSans-54\"/>\r\n      </defs>\r\n      <g transform=\"translate(221.1253 239.238437)scale(0.1 -0.1)\">\r\n       <use xlink:href=\"#DejaVuSans-54\"/>\r\n       <use x=\"63.623047\" xlink:href=\"#DejaVuSans-48\"/>\r\n      </g>\r\n     </g>\r\n    </g>\r\n    <g id=\"xtick_5\">\r\n     <g id=\"line2d_9\">\r\n      <path clip-path=\"url(#pa8be55f682)\" d=\"M 290.178559 224.64 \r\nL 290.178559 7.2 \r\n\" style=\"fill:none;stroke:#b0b0b0;stroke-linecap:square;stroke-width:0.8;\"/>\r\n     </g>\r\n     <g id=\"line2d_10\">\r\n      <g>\r\n       <use style=\"stroke:#000000;stroke-width:0.8;\" x=\"290.178559\" xlink:href=\"#m0c45cb1d86\" y=\"224.64\"/>\r\n      </g>\r\n     </g>\r\n     <g id=\"text_5\">\r\n      <!-- 80 -->\r\n      <defs>\r\n       <path d=\"M 31.78125 34.625 \r\nQ 24.75 34.625 20.71875 30.859375 \r\nQ 16.703125 27.09375 16.703125 20.515625 \r\nQ 16.703125 13.921875 20.71875 10.15625 \r\nQ 24.75 6.390625 31.78125 6.390625 \r\nQ 38.8125 6.390625 42.859375 10.171875 \r\nQ 46.921875 13.96875 46.921875 20.515625 \r\nQ 46.921875 27.09375 42.890625 30.859375 \r\nQ 38.875 34.625 31.78125 34.625 \r\nz\r\nM 21.921875 38.8125 \r\nQ 15.578125 40.375 12.03125 44.71875 \r\nQ 8.5 49.078125 8.5 55.328125 \r\nQ 8.5 64.0625 14.71875 69.140625 \r\nQ 20.953125 74.21875 31.78125 74.21875 \r\nQ 42.671875 74.21875 48.875 69.140625 \r\nQ 55.078125 64.0625 55.078125 55.328125 \r\nQ 55.078125 49.078125 51.53125 44.71875 \r\nQ 48 40.375 41.703125 38.8125 \r\nQ 48.828125 37.15625 52.796875 32.3125 \r\nQ 56.78125 27.484375 56.78125 20.515625 \r\nQ 56.78125 9.90625 50.3125 4.234375 \r\nQ 43.84375 -1.421875 31.78125 -1.421875 \r\nQ 19.734375 -1.421875 13.25 4.234375 \r\nQ 6.78125 9.90625 6.78125 20.515625 \r\nQ 6.78125 27.484375 10.78125 32.3125 \r\nQ 14.796875 37.15625 21.921875 38.8125 \r\nz\r\nM 18.3125 54.390625 \r\nQ 18.3125 48.734375 21.84375 45.5625 \r\nQ 25.390625 42.390625 31.78125 42.390625 \r\nQ 38.140625 42.390625 41.71875 45.5625 \r\nQ 45.3125 48.734375 45.3125 54.390625 \r\nQ 45.3125 60.0625 41.71875 63.234375 \r\nQ 38.140625 66.40625 31.78125 66.40625 \r\nQ 25.390625 66.40625 21.84375 63.234375 \r\nQ 18.3125 60.0625 18.3125 54.390625 \r\nz\r\n\" id=\"DejaVuSans-56\"/>\r\n      </defs>\r\n      <g transform=\"translate(283.816059 239.238437)scale(0.1 -0.1)\">\r\n       <use xlink:href=\"#DejaVuSans-56\"/>\r\n       <use x=\"63.623047\" xlink:href=\"#DejaVuSans-48\"/>\r\n      </g>\r\n     </g>\r\n    </g>\r\n    <g id=\"xtick_6\">\r\n     <g id=\"line2d_11\">\r\n      <path clip-path=\"url(#pa8be55f682)\" d=\"M 352.869318 224.64 \r\nL 352.869318 7.2 \r\n\" style=\"fill:none;stroke:#b0b0b0;stroke-linecap:square;stroke-width:0.8;\"/>\r\n     </g>\r\n     <g id=\"line2d_12\">\r\n      <g>\r\n       <use style=\"stroke:#000000;stroke-width:0.8;\" x=\"352.869318\" xlink:href=\"#m0c45cb1d86\" y=\"224.64\"/>\r\n      </g>\r\n     </g>\r\n     <g id=\"text_6\">\r\n      <!-- 100 -->\r\n      <defs>\r\n       <path d=\"M 12.40625 8.296875 \r\nL 28.515625 8.296875 \r\nL 28.515625 63.921875 \r\nL 10.984375 60.40625 \r\nL 10.984375 69.390625 \r\nL 28.421875 72.90625 \r\nL 38.28125 72.90625 \r\nL 38.28125 8.296875 \r\nL 54.390625 8.296875 \r\nL 54.390625 0 \r\nL 12.40625 0 \r\nz\r\n\" id=\"DejaVuSans-49\"/>\r\n      </defs>\r\n      <g transform=\"translate(343.325568 239.238437)scale(0.1 -0.1)\">\r\n       <use xlink:href=\"#DejaVuSans-49\"/>\r\n       <use x=\"63.623047\" xlink:href=\"#DejaVuSans-48\"/>\r\n       <use x=\"127.246094\" xlink:href=\"#DejaVuSans-48\"/>\r\n      </g>\r\n     </g>\r\n    </g>\r\n   </g>\r\n   <g id=\"matplotlib.axis_2\">\r\n    <g id=\"ytick_1\">\r\n     <g id=\"line2d_13\">\r\n      <path clip-path=\"url(#pa8be55f682)\" d=\"M 33.2875 224.64 \r\nL 368.0875 224.64 \r\n\" style=\"fill:none;stroke:#b0b0b0;stroke-linecap:square;stroke-width:0.8;\"/>\r\n     </g>\r\n     <g id=\"line2d_14\">\r\n      <defs>\r\n       <path d=\"M 0 0 \r\nL -3.5 0 \r\n\" id=\"mf601444fbd\" style=\"stroke:#000000;stroke-width:0.8;\"/>\r\n      </defs>\r\n      <g>\r\n       <use style=\"stroke:#000000;stroke-width:0.8;\" x=\"33.2875\" xlink:href=\"#mf601444fbd\" y=\"224.64\"/>\r\n      </g>\r\n     </g>\r\n     <g id=\"text_7\">\r\n      <!-- 0 -->\r\n      <g transform=\"translate(19.925 228.439219)scale(0.1 -0.1)\">\r\n       <use xlink:href=\"#DejaVuSans-48\"/>\r\n      </g>\r\n     </g>\r\n    </g>\r\n    <g id=\"ytick_2\">\r\n     <g id=\"line2d_15\">\r\n      <path clip-path=\"url(#pa8be55f682)\" d=\"M 33.2875 199.986939 \r\nL 368.0875 199.986939 \r\n\" style=\"fill:none;stroke:#b0b0b0;stroke-linecap:square;stroke-width:0.8;\"/>\r\n     </g>\r\n     <g id=\"line2d_16\">\r\n      <g>\r\n       <use style=\"stroke:#000000;stroke-width:0.8;\" x=\"33.2875\" xlink:href=\"#mf601444fbd\" y=\"199.986939\"/>\r\n      </g>\r\n     </g>\r\n     <g id=\"text_8\">\r\n      <!-- 20 -->\r\n      <g transform=\"translate(13.5625 203.786158)scale(0.1 -0.1)\">\r\n       <use xlink:href=\"#DejaVuSans-50\"/>\r\n       <use x=\"63.623047\" xlink:href=\"#DejaVuSans-48\"/>\r\n      </g>\r\n     </g>\r\n    </g>\r\n    <g id=\"ytick_3\">\r\n     <g id=\"line2d_17\">\r\n      <path clip-path=\"url(#pa8be55f682)\" d=\"M 33.2875 175.333878 \r\nL 368.0875 175.333878 \r\n\" style=\"fill:none;stroke:#b0b0b0;stroke-linecap:square;stroke-width:0.8;\"/>\r\n     </g>\r\n     <g id=\"line2d_18\">\r\n      <g>\r\n       <use style=\"stroke:#000000;stroke-width:0.8;\" x=\"33.2875\" xlink:href=\"#mf601444fbd\" y=\"175.333878\"/>\r\n      </g>\r\n     </g>\r\n     <g id=\"text_9\">\r\n      <!-- 40 -->\r\n      <g transform=\"translate(13.5625 179.133096)scale(0.1 -0.1)\">\r\n       <use xlink:href=\"#DejaVuSans-52\"/>\r\n       <use x=\"63.623047\" xlink:href=\"#DejaVuSans-48\"/>\r\n      </g>\r\n     </g>\r\n    </g>\r\n    <g id=\"ytick_4\">\r\n     <g id=\"line2d_19\">\r\n      <path clip-path=\"url(#pa8be55f682)\" d=\"M 33.2875 150.680816 \r\nL 368.0875 150.680816 \r\n\" style=\"fill:none;stroke:#b0b0b0;stroke-linecap:square;stroke-width:0.8;\"/>\r\n     </g>\r\n     <g id=\"line2d_20\">\r\n      <g>\r\n       <use style=\"stroke:#000000;stroke-width:0.8;\" x=\"33.2875\" xlink:href=\"#mf601444fbd\" y=\"150.680816\"/>\r\n      </g>\r\n     </g>\r\n     <g id=\"text_10\">\r\n      <!-- 60 -->\r\n      <g transform=\"translate(13.5625 154.480035)scale(0.1 -0.1)\">\r\n       <use xlink:href=\"#DejaVuSans-54\"/>\r\n       <use x=\"63.623047\" xlink:href=\"#DejaVuSans-48\"/>\r\n      </g>\r\n     </g>\r\n    </g>\r\n    <g id=\"ytick_5\">\r\n     <g id=\"line2d_21\">\r\n      <path clip-path=\"url(#pa8be55f682)\" d=\"M 33.2875 126.027755 \r\nL 368.0875 126.027755 \r\n\" style=\"fill:none;stroke:#b0b0b0;stroke-linecap:square;stroke-width:0.8;\"/>\r\n     </g>\r\n     <g id=\"line2d_22\">\r\n      <g>\r\n       <use style=\"stroke:#000000;stroke-width:0.8;\" x=\"33.2875\" xlink:href=\"#mf601444fbd\" y=\"126.027755\"/>\r\n      </g>\r\n     </g>\r\n     <g id=\"text_11\">\r\n      <!-- 80 -->\r\n      <g transform=\"translate(13.5625 129.826974)scale(0.1 -0.1)\">\r\n       <use xlink:href=\"#DejaVuSans-56\"/>\r\n       <use x=\"63.623047\" xlink:href=\"#DejaVuSans-48\"/>\r\n      </g>\r\n     </g>\r\n    </g>\r\n    <g id=\"ytick_6\">\r\n     <g id=\"line2d_23\">\r\n      <path clip-path=\"url(#pa8be55f682)\" d=\"M 33.2875 101.374694 \r\nL 368.0875 101.374694 \r\n\" style=\"fill:none;stroke:#b0b0b0;stroke-linecap:square;stroke-width:0.8;\"/>\r\n     </g>\r\n     <g id=\"line2d_24\">\r\n      <g>\r\n       <use style=\"stroke:#000000;stroke-width:0.8;\" x=\"33.2875\" xlink:href=\"#mf601444fbd\" y=\"101.374694\"/>\r\n      </g>\r\n     </g>\r\n     <g id=\"text_12\">\r\n      <!-- 100 -->\r\n      <g transform=\"translate(7.2 105.173913)scale(0.1 -0.1)\">\r\n       <use xlink:href=\"#DejaVuSans-49\"/>\r\n       <use x=\"63.623047\" xlink:href=\"#DejaVuSans-48\"/>\r\n       <use x=\"127.246094\" xlink:href=\"#DejaVuSans-48\"/>\r\n      </g>\r\n     </g>\r\n    </g>\r\n    <g id=\"ytick_7\">\r\n     <g id=\"line2d_25\">\r\n      <path clip-path=\"url(#pa8be55f682)\" d=\"M 33.2875 76.721633 \r\nL 368.0875 76.721633 \r\n\" style=\"fill:none;stroke:#b0b0b0;stroke-linecap:square;stroke-width:0.8;\"/>\r\n     </g>\r\n     <g id=\"line2d_26\">\r\n      <g>\r\n       <use style=\"stroke:#000000;stroke-width:0.8;\" x=\"33.2875\" xlink:href=\"#mf601444fbd\" y=\"76.721633\"/>\r\n      </g>\r\n     </g>\r\n     <g id=\"text_13\">\r\n      <!-- 120 -->\r\n      <g transform=\"translate(7.2 80.520851)scale(0.1 -0.1)\">\r\n       <use xlink:href=\"#DejaVuSans-49\"/>\r\n       <use x=\"63.623047\" xlink:href=\"#DejaVuSans-50\"/>\r\n       <use x=\"127.246094\" xlink:href=\"#DejaVuSans-48\"/>\r\n      </g>\r\n     </g>\r\n    </g>\r\n    <g id=\"ytick_8\">\r\n     <g id=\"line2d_27\">\r\n      <path clip-path=\"url(#pa8be55f682)\" d=\"M 33.2875 52.068571 \r\nL 368.0875 52.068571 \r\n\" style=\"fill:none;stroke:#b0b0b0;stroke-linecap:square;stroke-width:0.8;\"/>\r\n     </g>\r\n     <g id=\"line2d_28\">\r\n      <g>\r\n       <use style=\"stroke:#000000;stroke-width:0.8;\" x=\"33.2875\" xlink:href=\"#mf601444fbd\" y=\"52.068571\"/>\r\n      </g>\r\n     </g>\r\n     <g id=\"text_14\">\r\n      <!-- 140 -->\r\n      <g transform=\"translate(7.2 55.86779)scale(0.1 -0.1)\">\r\n       <use xlink:href=\"#DejaVuSans-49\"/>\r\n       <use x=\"63.623047\" xlink:href=\"#DejaVuSans-52\"/>\r\n       <use x=\"127.246094\" xlink:href=\"#DejaVuSans-48\"/>\r\n      </g>\r\n     </g>\r\n    </g>\r\n    <g id=\"ytick_9\">\r\n     <g id=\"line2d_29\">\r\n      <path clip-path=\"url(#pa8be55f682)\" d=\"M 33.2875 27.41551 \r\nL 368.0875 27.41551 \r\n\" style=\"fill:none;stroke:#b0b0b0;stroke-linecap:square;stroke-width:0.8;\"/>\r\n     </g>\r\n     <g id=\"line2d_30\">\r\n      <g>\r\n       <use style=\"stroke:#000000;stroke-width:0.8;\" x=\"33.2875\" xlink:href=\"#mf601444fbd\" y=\"27.41551\"/>\r\n      </g>\r\n     </g>\r\n     <g id=\"text_15\">\r\n      <!-- 160 -->\r\n      <g transform=\"translate(7.2 31.214729)scale(0.1 -0.1)\">\r\n       <use xlink:href=\"#DejaVuSans-49\"/>\r\n       <use x=\"63.623047\" xlink:href=\"#DejaVuSans-54\"/>\r\n       <use x=\"127.246094\" xlink:href=\"#DejaVuSans-48\"/>\r\n      </g>\r\n     </g>\r\n    </g>\r\n   </g>\r\n   <g id=\"patch_13\">\r\n    <path d=\"M 33.2875 224.64 \r\nL 33.2875 7.2 \r\n\" style=\"fill:none;stroke:#000000;stroke-linecap:square;stroke-linejoin:miter;stroke-width:0.8;\"/>\r\n   </g>\r\n   <g id=\"patch_14\">\r\n    <path d=\"M 368.0875 224.64 \r\nL 368.0875 7.2 \r\n\" style=\"fill:none;stroke:#000000;stroke-linecap:square;stroke-linejoin:miter;stroke-width:0.8;\"/>\r\n   </g>\r\n   <g id=\"patch_15\">\r\n    <path d=\"M 33.2875 224.64 \r\nL 368.0875 224.64 \r\n\" style=\"fill:none;stroke:#000000;stroke-linecap:square;stroke-linejoin:miter;stroke-width:0.8;\"/>\r\n   </g>\r\n   <g id=\"patch_16\">\r\n    <path d=\"M 33.2875 7.2 \r\nL 368.0875 7.2 \r\n\" style=\"fill:none;stroke:#000000;stroke-linecap:square;stroke-linejoin:miter;stroke-width:0.8;\"/>\r\n   </g>\r\n  </g>\r\n </g>\r\n <defs>\r\n  <clipPath id=\"pa8be55f682\">\r\n   <rect height=\"217.44\" width=\"334.8\" x=\"33.2875\" y=\"7.2\"/>\r\n  </clipPath>\r\n </defs>\r\n</svg>\r\n",
      "image/png": "[encoded data removed]"
     },
     "metadata": {
      "needs_background": "light"
     }
    }
   ],
   "source": [
    "boston = load_boston()\n",
    "bos = pd.DataFrame(boston.data)\n",
    "bos.columns = boston.feature_names\n",
    "bos['MEDV'] = boston.target\n",
    "bos.describe\n",
    "bos['AGE'].hist()"
   ]
  },
  {
   "cell_type": "markdown",
   "metadata": {},
   "source": [
    "## Fit a linear regressor to the data as a baseline.  "
   ]
  },
  {
   "cell_type": "code",
   "execution_count": 3,
   "metadata": {},
   "outputs": [],
   "source": [
    "train_set = bos.sample(frac=0.7, random_state=100)\n",
    "test_set = bos[~bos.isin(train_set)].dropna()"
   ]
  },
  {
   "cell_type": "code",
   "execution_count": 4,
   "metadata": {},
   "outputs": [],
   "source": [
    "X_train = train_set.iloc[:, :-1].values\n",
    "Y_train = train_set.iloc[:, -1].values\n",
    "X_test = test_set.iloc[:, :-1].values\n",
    "Y_test = test_set.iloc[:, -1].values"
   ]
  },
  {
   "cell_type": "code",
   "execution_count": 5,
   "metadata": {
    "tags": []
   },
   "outputs": [
    {
     "output_type": "stream",
     "name": "stdout",
     "text": "0.7478284701218886\n[-1.35456753e-01  5.48606010e-02  5.46611167e-02  3.57648807e+00\n -2.01163242e+01  3.96567027e+00  1.33685712e-02 -1.48716658e+00\n  2.99295349e-01 -9.83868843e-03 -9.45023886e-01  6.45207267e-03\n -5.77572297e-01]\n36.0793476882823\n{'copy_X': True, 'fit_intercept': True, 'n_jobs': None, 'normalize': True}\n"
    }
   ],
   "source": [
    "reg = LinearRegression(normalize=True).fit(X_train, Y_train)\n",
    "print(reg.score(X_train, Y_train))\n",
    "print(reg.coef_)\n",
    "print(reg.intercept_)\n",
    "print(reg.get_params())"
   ]
  },
  {
   "cell_type": "markdown",
   "metadata": {},
   "source": [
    "What is the loss and what are the goodness of fit parameters?"
   ]
  },
  {
   "cell_type": "code",
   "execution_count": 6,
   "metadata": {
    "tags": []
   },
   "outputs": [
    {
     "output_type": "stream",
     "name": "stdout",
     "text": "The loss of the model is 0.7478284701218886.\nGoodness of fit parameter copy_X has a value of True\nGoodness of fit parameter fit_intercept has a value of True\nGoodness of fit parameter n_jobs has a value of None\nGoodness of fit parameter normalize has a value of True\n"
    }
   ],
   "source": [
    "print(\"The loss of the model is {}.\".format(reg.score(X_train, Y_train)))\n",
    "for k, v in reg.get_params().items():\n",
    "    print(\"Goodness of fit parameter {} has a value of {}\".format(k,v))"
   ]
  },
  {
   "cell_type": "code",
   "execution_count": 7,
   "metadata": {
    "tags": []
   },
   "outputs": [
    {
     "output_type": "stream",
     "name": "stdout",
     "text": "MAE: 3.605\nMSE:  24.099\nRMSE:  4.909\nR2:  0.705\n"
    }
   ],
   "source": [
    "Y_pred = reg.predict(X_test)\n",
    "\n",
    "orig_mae = mean_absolute_error(Y_test,Y_pred)\n",
    "orig_mse = mean_squared_error(Y_test,Y_pred)\n",
    "orig_rmse_val = rmse(Y_test,Y_pred)\n",
    "orig_r2 = r2_score(Y_test,Y_pred)\n",
    "print(\"MAE: %.3f\"%orig_mae)\n",
    "print(\"MSE:  %.3f\"%orig_mse)\n",
    "print(\"RMSE:  %.3f\"%orig_rmse_val)\n",
    "print(\"R2:  %.3f\"%orig_r2)"
   ]
  },
  {
   "cell_type": "code",
   "execution_count": 8,
   "metadata": {},
   "outputs": [
    {
     "output_type": "execute_result",
     "data": {
      "text/plain": "       data imputation       mae        mse      rmse       R2  mae_diff  \\\n0  original       none  3.604571  24.098505  4.909023  0.70494       NaN   \n\n   mse_diff  rmse_diff  R2_diff  \n0       NaN        NaN      NaN  ",
      "text/html": "<div>\n<style scoped>\n    .dataframe tbody tr th:only-of-type {\n        vertical-align: middle;\n    }\n\n    .dataframe tbody tr th {\n        vertical-align: top;\n    }\n\n    .dataframe thead th {\n        text-align: right;\n    }\n</style>\n<table border=\"1\" class=\"dataframe\">\n  <thead>\n    <tr style=\"text-align: right;\">\n      <th></th>\n      <th>data</th>\n      <th>imputation</th>\n      <th>mae</th>\n      <th>mse</th>\n      <th>rmse</th>\n      <th>R2</th>\n      <th>mae_diff</th>\n      <th>mse_diff</th>\n      <th>rmse_diff</th>\n      <th>R2_diff</th>\n    </tr>\n  </thead>\n  <tbody>\n    <tr>\n      <th>0</th>\n      <td>original</td>\n      <td>none</td>\n      <td>3.604571</td>\n      <td>24.098505</td>\n      <td>4.909023</td>\n      <td>0.70494</td>\n      <td>NaN</td>\n      <td>NaN</td>\n      <td>NaN</td>\n      <td>NaN</td>\n    </tr>\n  </tbody>\n</table>\n</div>"
     },
     "metadata": {},
     "execution_count": 8
    }
   ],
   "source": [
    "res_frame = pd.DataFrame({'data':'original',\n",
    "                   'imputation':'none',\n",
    "                   'mae': orig_mae, \n",
    "                   'mse': orig_mse, \n",
    "                   'rmse':orig_rmse_val, \n",
    "                   'R2':orig_r2,\n",
    "                   'mae_diff':np.nan,\n",
    "                   'mse_diff':np.nan,\n",
    "                   'rmse_diff':np.nan,\n",
    "                   'R2_diff':np.nan}, index=[0])\n",
    "res_frame"
   ]
  },
  {
   "cell_type": "code",
   "execution_count": 9,
   "metadata": {},
   "outputs": [],
   "source": [
    "train_index = train_set.index.values.astype(int)\n",
    "test_index = test_set.index.values.astype(int)"
   ]
  },
  {
   "cell_type": "markdown",
   "metadata": {},
   "source": [
    "Step 2: Select 1%, 5% 10%, 20%, 33%, and 50% of your data in a single column [hold that column selection constant throughout all iterations] (Completely at random), replace the original value with a NaN (i.e., “not a number” – ex., np.nan) and then perform an imputation for the missing values.   "
   ]
  },
  {
   "cell_type": "code",
   "execution_count": 10,
   "metadata": {},
   "outputs": [],
   "source": [
    "in_sample = bos.sample(frac=0.01, random_state=99)\n",
    "out_sample = bos[~bos.isin(in_sample)].dropna()\n",
    "in_sample['AGE'] = np.nan\n",
    "in_sample['AGE'] = in_sample['AGE'].fillna(out_sample['AGE'].median())\n",
    "imputed_data = pd.concat([in_sample, out_sample])\n",
    "imputed_data = imputed_data.sort_index()"
   ]
  },
  {
   "cell_type": "code",
   "execution_count": 11,
   "metadata": {},
   "outputs": [],
   "source": [
    "train_set = imputed_data.iloc[train_index]\n",
    "test_set = imputed_data.iloc[test_index]"
   ]
  },
  {
   "cell_type": "code",
   "execution_count": 12,
   "metadata": {},
   "outputs": [],
   "source": [
    "X_train = train_set.iloc[:, :-1].values\n",
    "Y_train = train_set.iloc[:, -1].values\n",
    "X_test = test_set.iloc[:, :-1].values\n",
    "Y_test = test_set.iloc[:, -1].values"
   ]
  },
  {
   "cell_type": "code",
   "execution_count": 13,
   "metadata": {
    "tags": []
   },
   "outputs": [
    {
     "output_type": "stream",
     "name": "stdout",
     "text": "0.7477990218800384\n[-1.35495603e-01  5.46769124e-02  5.59365305e-02  3.58336026e+00\n -2.00572242e+01  3.97115055e+00  1.28757977e-02 -1.48614678e+00\n  2.99858619e-01 -9.89226289e-03 -9.44220284e-01  6.46707615e-03\n -5.76184693e-01]\n36.00239693382321\n{'copy_X': True, 'fit_intercept': True, 'n_jobs': None, 'normalize': False}\n"
    }
   ],
   "source": [
    "reg2 = LinearRegression().fit(X_train, Y_train)\n",
    "print(reg2.score(X_train, Y_train))\n",
    "print(reg2.coef_)\n",
    "print(reg2.intercept_)\n",
    "print(reg2.get_params())"
   ]
  },
  {
   "cell_type": "code",
   "execution_count": 14,
   "metadata": {
    "tags": []
   },
   "outputs": [
    {
     "output_type": "stream",
     "name": "stdout",
     "text": "MAE: 3.610\nMSE:  24.097\nRMSE:  4.909\nR2:  0.705\n"
    }
   ],
   "source": [
    "Y_pred = reg2.predict(X_test)\n",
    "\n",
    "mae = mean_absolute_error(Y_test,Y_pred)\n",
    "mse = mean_squared_error(Y_test,Y_pred)\n",
    "rmse_val = rmse(Y_test,Y_pred)\n",
    "r2 = r2_score(Y_test,Y_pred)\n",
    "print(\"MAE: %.3f\"%mae)\n",
    "print(\"MSE:  %.3f\"%mse)\n",
    "print(\"RMSE:  %.3f\"%rmse_val)\n",
    "print(\"R2:  %.3f\"%r2)"
   ]
  },
  {
   "cell_type": "code",
   "execution_count": 15,
   "metadata": {},
   "outputs": [],
   "source": [
    "temp_frame = pd.DataFrame({'data':'1% imputed',\n",
    "                   'imputation':'AGE',\n",
    "                   'mae': mae, \n",
    "                   'mse': mse, \n",
    "                   'rmse':rmse_val,\n",
    "                   'R2':r2,\n",
    "                   'mae_diff':mae-orig_mae,\n",
    "                   'mse_diff':mse-orig_mse,\n",
    "                   'rmse_diff':rmse_val-orig_rmse_val,\n",
    "                   'R2_diff':r2-orig_r2\n",
    "                   }, index=[0])"
   ]
  },
  {
   "cell_type": "code",
   "execution_count": 16,
   "metadata": {},
   "outputs": [
    {
     "output_type": "execute_result",
     "data": {
      "text/plain": "         data imputation       mae        mse      rmse        R2  mae_diff  \\\n0    original       none  3.604571  24.098505  4.909023  0.704940       NaN   \n0  1% imputed        AGE  3.610206  24.097314  4.908902  0.704954  0.005634   \n\n   mse_diff  rmse_diff   R2_diff  \n0       NaN        NaN       NaN  \n0 -0.001191  -0.000121  0.000015  ",
      "text/html": "<div>\n<style scoped>\n    .dataframe tbody tr th:only-of-type {\n        vertical-align: middle;\n    }\n\n    .dataframe tbody tr th {\n        vertical-align: top;\n    }\n\n    .dataframe thead th {\n        text-align: right;\n    }\n</style>\n<table border=\"1\" class=\"dataframe\">\n  <thead>\n    <tr style=\"text-align: right;\">\n      <th></th>\n      <th>data</th>\n      <th>imputation</th>\n      <th>mae</th>\n      <th>mse</th>\n      <th>rmse</th>\n      <th>R2</th>\n      <th>mae_diff</th>\n      <th>mse_diff</th>\n      <th>rmse_diff</th>\n      <th>R2_diff</th>\n    </tr>\n  </thead>\n  <tbody>\n    <tr>\n      <th>0</th>\n      <td>original</td>\n      <td>none</td>\n      <td>3.604571</td>\n      <td>24.098505</td>\n      <td>4.909023</td>\n      <td>0.704940</td>\n      <td>NaN</td>\n      <td>NaN</td>\n      <td>NaN</td>\n      <td>NaN</td>\n    </tr>\n    <tr>\n      <th>0</th>\n      <td>1% imputed</td>\n      <td>AGE</td>\n      <td>3.610206</td>\n      <td>24.097314</td>\n      <td>4.908902</td>\n      <td>0.704954</td>\n      <td>0.005634</td>\n      <td>-0.001191</td>\n      <td>-0.000121</td>\n      <td>0.000015</td>\n    </tr>\n  </tbody>\n</table>\n</div>"
     },
     "metadata": {},
     "execution_count": 16
    }
   ],
   "source": [
    "res_frame = pd.concat([res_frame, temp_frame])\n",
    "res_frame"
   ]
  },
  {
   "cell_type": "code",
   "execution_count": 17,
   "metadata": {
    "tags": []
   },
   "outputs": [
    {
     "output_type": "stream",
     "name": "stdout",
     "text": "0.7474054150918357\n[-1.35479447e-01  5.39751912e-02  5.68455747e-02  3.64818312e+00\n -1.95450772e+01  4.02186229e+00  5.81560155e-03 -1.51361766e+00\n  2.97374435e-01 -9.83852440e-03 -9.37852993e-01  6.56772095e-03\n -5.66318324e-01]\n35.71298478523523\n{'copy_X': True, 'fit_intercept': True, 'n_jobs': None, 'normalize': False}\nMAE: 3.603\nMSE:  23.959\nRMSE:  4.895\nR2:  0.707\n"
    },
    {
     "output_type": "execute_result",
     "data": {
      "text/plain": "         data imputation       mae        mse      rmse        R2  mae_diff  \\\n0    original       none  3.604571  24.098505  4.909023  0.704940       NaN   \n0  1% imputed        AGE  3.610206  24.097314  4.908902  0.704954  0.005634   \n0  5% imputed        AGE  3.602697  23.959056  4.894799  0.706647 -0.001874   \n\n   mse_diff  rmse_diff   R2_diff  \n0       NaN        NaN       NaN  \n0 -0.001191  -0.000121  0.000015  \n0 -0.139449  -0.014224  0.001707  ",
      "text/html": "<div>\n<style scoped>\n    .dataframe tbody tr th:only-of-type {\n        vertical-align: middle;\n    }\n\n    .dataframe tbody tr th {\n        vertical-align: top;\n    }\n\n    .dataframe thead th {\n        text-align: right;\n    }\n</style>\n<table border=\"1\" class=\"dataframe\">\n  <thead>\n    <tr style=\"text-align: right;\">\n      <th></th>\n      <th>data</th>\n      <th>imputation</th>\n      <th>mae</th>\n      <th>mse</th>\n      <th>rmse</th>\n      <th>R2</th>\n      <th>mae_diff</th>\n      <th>mse_diff</th>\n      <th>rmse_diff</th>\n      <th>R2_diff</th>\n    </tr>\n  </thead>\n  <tbody>\n    <tr>\n      <th>0</th>\n      <td>original</td>\n      <td>none</td>\n      <td>3.604571</td>\n      <td>24.098505</td>\n      <td>4.909023</td>\n      <td>0.704940</td>\n      <td>NaN</td>\n      <td>NaN</td>\n      <td>NaN</td>\n      <td>NaN</td>\n    </tr>\n    <tr>\n      <th>0</th>\n      <td>1% imputed</td>\n      <td>AGE</td>\n      <td>3.610206</td>\n      <td>24.097314</td>\n      <td>4.908902</td>\n      <td>0.704954</td>\n      <td>0.005634</td>\n      <td>-0.001191</td>\n      <td>-0.000121</td>\n      <td>0.000015</td>\n    </tr>\n    <tr>\n      <th>0</th>\n      <td>5% imputed</td>\n      <td>AGE</td>\n      <td>3.602697</td>\n      <td>23.959056</td>\n      <td>4.894799</td>\n      <td>0.706647</td>\n      <td>-0.001874</td>\n      <td>-0.139449</td>\n      <td>-0.014224</td>\n      <td>0.001707</td>\n    </tr>\n  </tbody>\n</table>\n</div>"
     },
     "metadata": {},
     "execution_count": 17
    }
   ],
   "source": [
    "in_sample = bos.sample(frac=0.05, random_state=99)\n",
    "out_sample = bos[~bos.isin(in_sample)].dropna()\n",
    "in_sample['AGE'] = np.nan\n",
    "in_sample['AGE'] = in_sample['AGE'].fillna(out_sample['AGE'].median())\n",
    "imputed_data = pd.concat([in_sample, out_sample])\n",
    "imputed_data = imputed_data.sort_index()\n",
    "\n",
    "train_set = imputed_data.iloc[train_index]\n",
    "test_set = imputed_data.iloc[test_index]\n",
    "\n",
    "X_train = train_set.iloc[:, :-1].values\n",
    "Y_train = train_set.iloc[:, -1].values\n",
    "X_test = test_set.iloc[:, :-1].values\n",
    "Y_test = test_set.iloc[:, -1].values\n",
    "\n",
    "reg2 = LinearRegression().fit(X_train, Y_train)\n",
    "print(reg2.score(X_train, Y_train))\n",
    "print(reg2.coef_)\n",
    "print(reg2.intercept_)\n",
    "print(reg2.get_params())\n",
    "\n",
    "Y_pred = reg2.predict(X_test)\n",
    "\n",
    "mae = mean_absolute_error(Y_test,Y_pred)\n",
    "mse = mean_squared_error(Y_test,Y_pred)\n",
    "rmse_val = rmse(Y_test,Y_pred)\n",
    "r2 = r2_score(Y_test,Y_pred)\n",
    "print(\"MAE: %.3f\"%mae)\n",
    "print(\"MSE:  %.3f\"%mse)\n",
    "print(\"RMSE:  %.3f\"%rmse_val)\n",
    "print(\"R2:  %.3f\"%r2)\n",
    "\n",
    "temp_frame = pd.DataFrame({'data':'5% imputed',\n",
    "                   'imputation':'AGE',\n",
    "                   'mae': mae, \n",
    "                   'mse': mse, \n",
    "                   'rmse':rmse_val,\n",
    "                   'R2':r2,\n",
    "                   'mae_diff':mae-orig_mae,\n",
    "                   'mse_diff':mse-orig_mse,\n",
    "                   'rmse_diff':rmse_val-orig_rmse_val,\n",
    "                   'R2_diff':r2-orig_r2\n",
    "                   }, index=[0])\n",
    "\n",
    "res_frame = pd.concat([res_frame, temp_frame])\n",
    "res_frame"
   ]
  },
  {
   "cell_type": "code",
   "execution_count": 18,
   "metadata": {
    "tags": []
   },
   "outputs": [
    {
     "output_type": "stream",
     "name": "stdout",
     "text": "0.7475901636386664\n[-1.35704898e-01  5.42248059e-02  5.65665563e-02  3.61841897e+00\n -1.98062823e+01  3.99558651e+00  9.59472574e-03 -1.50029324e+00\n  2.99036913e-01 -9.87201825e-03 -9.42429391e-01  6.52870503e-03\n -5.70192288e-01]\n35.85538686739956\n{'copy_X': True, 'fit_intercept': True, 'n_jobs': None, 'normalize': False}\nMAE: 3.607\nMSE:  24.040\nRMSE:  4.903\nR2:  0.706\n"
    },
    {
     "output_type": "execute_result",
     "data": {
      "text/plain": "          data imputation       mae        mse      rmse        R2  mae_diff  \\\n0     original       none  3.604571  24.098505  4.909023  0.704940       NaN   \n0   1% imputed        AGE  3.610206  24.097314  4.908902  0.704954  0.005634   \n0   5% imputed        AGE  3.602697  23.959056  4.894799  0.706647 -0.001874   \n0  10% imputed        AGE  3.606641  24.039858  4.903046  0.705658  0.002070   \n\n   mse_diff  rmse_diff   R2_diff  \n0       NaN        NaN       NaN  \n0 -0.001191  -0.000121  0.000015  \n0 -0.139449  -0.014224  0.001707  \n0 -0.058647  -0.005977  0.000718  ",
      "text/html": "<div>\n<style scoped>\n    .dataframe tbody tr th:only-of-type {\n        vertical-align: middle;\n    }\n\n    .dataframe tbody tr th {\n        vertical-align: top;\n    }\n\n    .dataframe thead th {\n        text-align: right;\n    }\n</style>\n<table border=\"1\" class=\"dataframe\">\n  <thead>\n    <tr style=\"text-align: right;\">\n      <th></th>\n      <th>data</th>\n      <th>imputation</th>\n      <th>mae</th>\n      <th>mse</th>\n      <th>rmse</th>\n      <th>R2</th>\n      <th>mae_diff</th>\n      <th>mse_diff</th>\n      <th>rmse_diff</th>\n      <th>R2_diff</th>\n    </tr>\n  </thead>\n  <tbody>\n    <tr>\n      <th>0</th>\n      <td>original</td>\n      <td>none</td>\n      <td>3.604571</td>\n      <td>24.098505</td>\n      <td>4.909023</td>\n      <td>0.704940</td>\n      <td>NaN</td>\n      <td>NaN</td>\n      <td>NaN</td>\n      <td>NaN</td>\n    </tr>\n    <tr>\n      <th>0</th>\n      <td>1% imputed</td>\n      <td>AGE</td>\n      <td>3.610206</td>\n      <td>24.097314</td>\n      <td>4.908902</td>\n      <td>0.704954</td>\n      <td>0.005634</td>\n      <td>-0.001191</td>\n      <td>-0.000121</td>\n      <td>0.000015</td>\n    </tr>\n    <tr>\n      <th>0</th>\n      <td>5% imputed</td>\n      <td>AGE</td>\n      <td>3.602697</td>\n      <td>23.959056</td>\n      <td>4.894799</td>\n      <td>0.706647</td>\n      <td>-0.001874</td>\n      <td>-0.139449</td>\n      <td>-0.014224</td>\n      <td>0.001707</td>\n    </tr>\n    <tr>\n      <th>0</th>\n      <td>10% imputed</td>\n      <td>AGE</td>\n      <td>3.606641</td>\n      <td>24.039858</td>\n      <td>4.903046</td>\n      <td>0.705658</td>\n      <td>0.002070</td>\n      <td>-0.058647</td>\n      <td>-0.005977</td>\n      <td>0.000718</td>\n    </tr>\n  </tbody>\n</table>\n</div>"
     },
     "metadata": {},
     "execution_count": 18
    }
   ],
   "source": [
    "in_sample = bos.sample(frac=0.1, random_state=99)\n",
    "out_sample = bos[~bos.isin(in_sample)].dropna()\n",
    "in_sample['AGE'] = np.nan\n",
    "in_sample['AGE'] = in_sample['AGE'].fillna(out_sample['AGE'].median())\n",
    "imputed_data = pd.concat([in_sample, out_sample])\n",
    "imputed_data = imputed_data.sort_index()\n",
    "\n",
    "train_set = imputed_data.iloc[train_index]\n",
    "test_set = imputed_data.iloc[test_index]\n",
    "\n",
    "X_train = train_set.iloc[:, :-1].values\n",
    "Y_train = train_set.iloc[:, -1].values\n",
    "X_test = test_set.iloc[:, :-1].values\n",
    "Y_test = test_set.iloc[:, -1].values\n",
    "\n",
    "reg2 = LinearRegression().fit(X_train, Y_train)\n",
    "print(reg2.score(X_train, Y_train))\n",
    "print(reg2.coef_)\n",
    "print(reg2.intercept_)\n",
    "print(reg2.get_params())\n",
    "\n",
    "Y_pred = reg2.predict(X_test)\n",
    "\n",
    "mae = mean_absolute_error(Y_test,Y_pred)\n",
    "mse = mean_squared_error(Y_test,Y_pred)\n",
    "rmse_val = rmse(Y_test,Y_pred)\n",
    "r2 = r2_score(Y_test,Y_pred)\n",
    "print(\"MAE: %.3f\"%mae)\n",
    "print(\"MSE:  %.3f\"%mse)\n",
    "print(\"RMSE:  %.3f\"%rmse_val)\n",
    "print(\"R2:  %.3f\"%r2)\n",
    "\n",
    "temp_frame = pd.DataFrame({'data':'10% imputed',\n",
    "                   'imputation':'AGE',\n",
    "                   'mae': mae, \n",
    "                   'mse': mse, \n",
    "                   'rmse':rmse_val,\n",
    "                   'R2':r2,\n",
    "                   'mae_diff':mae-orig_mae,\n",
    "                   'mse_diff':mse-orig_mse,\n",
    "                   'rmse_diff':rmse_val-orig_rmse_val,\n",
    "                   'R2_diff':r2-orig_r2\n",
    "                   }, index=[0])\n",
    "\n",
    "res_frame = pd.concat([res_frame, temp_frame])\n",
    "res_frame"
   ]
  },
  {
   "cell_type": "code",
   "execution_count": 19,
   "metadata": {
    "tags": []
   },
   "outputs": [
    {
     "output_type": "stream",
     "name": "stdout",
     "text": "0.7475244246396399\n[-1.35668627e-01  5.42339417e-02  5.75158074e-02  3.64277357e+00\n -1.97135946e+01  4.00820309e+00  8.16071048e-03 -1.51158118e+00\n  2.98373506e-01 -9.89070337e-03 -9.40085350e-01  6.52989253e-03\n -5.67554567e-01]\n35.78364265172913\n{'copy_X': True, 'fit_intercept': True, 'n_jobs': None, 'normalize': False}\nMAE: 3.613\nMSE:  24.018\nRMSE:  4.901\nR2:  0.706\n"
    },
    {
     "output_type": "execute_result",
     "data": {
      "text/plain": "          data imputation       mae        mse      rmse        R2  mae_diff  \\\n0     original       none  3.604571  24.098505  4.909023  0.704940       NaN   \n0   1% imputed        AGE  3.610206  24.097314  4.908902  0.704954  0.005634   \n0   5% imputed        AGE  3.602697  23.959056  4.894799  0.706647 -0.001874   \n0  10% imputed        AGE  3.606641  24.039858  4.903046  0.705658  0.002070   \n0  20% imputed        AGE  3.613030  24.017633  4.900779  0.705930  0.008459   \n\n   mse_diff  rmse_diff   R2_diff  \n0       NaN        NaN       NaN  \n0 -0.001191  -0.000121  0.000015  \n0 -0.139449  -0.014224  0.001707  \n0 -0.058647  -0.005977  0.000718  \n0 -0.080872  -0.008244  0.000990  ",
      "text/html": "<div>\n<style scoped>\n    .dataframe tbody tr th:only-of-type {\n        vertical-align: middle;\n    }\n\n    .dataframe tbody tr th {\n        vertical-align: top;\n    }\n\n    .dataframe thead th {\n        text-align: right;\n    }\n</style>\n<table border=\"1\" class=\"dataframe\">\n  <thead>\n    <tr style=\"text-align: right;\">\n      <th></th>\n      <th>data</th>\n      <th>imputation</th>\n      <th>mae</th>\n      <th>mse</th>\n      <th>rmse</th>\n      <th>R2</th>\n      <th>mae_diff</th>\n      <th>mse_diff</th>\n      <th>rmse_diff</th>\n      <th>R2_diff</th>\n    </tr>\n  </thead>\n  <tbody>\n    <tr>\n      <th>0</th>\n      <td>original</td>\n      <td>none</td>\n      <td>3.604571</td>\n      <td>24.098505</td>\n      <td>4.909023</td>\n      <td>0.704940</td>\n      <td>NaN</td>\n      <td>NaN</td>\n      <td>NaN</td>\n      <td>NaN</td>\n    </tr>\n    <tr>\n      <th>0</th>\n      <td>1% imputed</td>\n      <td>AGE</td>\n      <td>3.610206</td>\n      <td>24.097314</td>\n      <td>4.908902</td>\n      <td>0.704954</td>\n      <td>0.005634</td>\n      <td>-0.001191</td>\n      <td>-0.000121</td>\n      <td>0.000015</td>\n    </tr>\n    <tr>\n      <th>0</th>\n      <td>5% imputed</td>\n      <td>AGE</td>\n      <td>3.602697</td>\n      <td>23.959056</td>\n      <td>4.894799</td>\n      <td>0.706647</td>\n      <td>-0.001874</td>\n      <td>-0.139449</td>\n      <td>-0.014224</td>\n      <td>0.001707</td>\n    </tr>\n    <tr>\n      <th>0</th>\n      <td>10% imputed</td>\n      <td>AGE</td>\n      <td>3.606641</td>\n      <td>24.039858</td>\n      <td>4.903046</td>\n      <td>0.705658</td>\n      <td>0.002070</td>\n      <td>-0.058647</td>\n      <td>-0.005977</td>\n      <td>0.000718</td>\n    </tr>\n    <tr>\n      <th>0</th>\n      <td>20% imputed</td>\n      <td>AGE</td>\n      <td>3.613030</td>\n      <td>24.017633</td>\n      <td>4.900779</td>\n      <td>0.705930</td>\n      <td>0.008459</td>\n      <td>-0.080872</td>\n      <td>-0.008244</td>\n      <td>0.000990</td>\n    </tr>\n  </tbody>\n</table>\n</div>"
     },
     "metadata": {},
     "execution_count": 19
    }
   ],
   "source": [
    "in_sample = bos.sample(frac=0.2, random_state=99)\n",
    "out_sample = bos[~bos.isin(in_sample)].dropna()\n",
    "in_sample['AGE'] = np.nan\n",
    "in_sample['AGE'] = in_sample['AGE'].fillna(out_sample['AGE'].median())\n",
    "imputed_data = pd.concat([in_sample, out_sample])\n",
    "imputed_data = imputed_data.sort_index()\n",
    "\n",
    "train_set = imputed_data.iloc[train_index]\n",
    "test_set = imputed_data.iloc[test_index]\n",
    "\n",
    "X_train = train_set.iloc[:, :-1].values\n",
    "Y_train = train_set.iloc[:, -1].values\n",
    "X_test = test_set.iloc[:, :-1].values\n",
    "Y_test = test_set.iloc[:, -1].values\n",
    "\n",
    "reg2 = LinearRegression().fit(X_train, Y_train)\n",
    "print(reg2.score(X_train, Y_train))\n",
    "print(reg2.coef_)\n",
    "print(reg2.intercept_)\n",
    "print(reg2.get_params())\n",
    "\n",
    "Y_pred = reg2.predict(X_test)\n",
    "\n",
    "mae = mean_absolute_error(Y_test,Y_pred)\n",
    "mse = mean_squared_error(Y_test,Y_pred)\n",
    "rmse_val = rmse(Y_test,Y_pred)\n",
    "r2 = r2_score(Y_test,Y_pred)\n",
    "print(\"MAE: %.3f\"%mae)\n",
    "print(\"MSE:  %.3f\"%mse)\n",
    "print(\"RMSE:  %.3f\"%rmse_val)\n",
    "print(\"R2:  %.3f\"%r2)\n",
    "\n",
    "temp_frame = pd.DataFrame({'data':'20% imputed',\n",
    "                   'imputation':'AGE',\n",
    "                   'mae': mae, \n",
    "                   'mse': mse, \n",
    "                   'rmse':rmse_val,\n",
    "                   'R2':r2,\n",
    "                   'mae_diff':mae-orig_mae,\n",
    "                   'mse_diff':mse-orig_mse,\n",
    "                   'rmse_diff':rmse_val-orig_rmse_val,\n",
    "                   'R2_diff':r2-orig_r2\n",
    "                   }, index=[0])\n",
    "\n",
    "res_frame = pd.concat([res_frame, temp_frame])\n",
    "res_frame"
   ]
  },
  {
   "cell_type": "code",
   "execution_count": 20,
   "metadata": {
    "tags": []
   },
   "outputs": [
    {
     "output_type": "stream",
     "name": "stdout",
     "text": "0.7475049506773191\n[-1.35315559e-01  5.33919444e-02  5.89311604e-02  3.64446061e+00\n -1.96292875e+01  4.02686961e+00  7.67041127e-03 -1.50620066e+00\n  2.98345141e-01 -9.83261044e-03 -9.44144893e-01  6.53803679e-03\n -5.65129040e-01]\n35.626593631326884\n{'copy_X': True, 'fit_intercept': True, 'n_jobs': None, 'normalize': False}\nMAE: 3.616\nMSE:  24.027\nRMSE:  4.902\nR2:  0.706\n"
    },
    {
     "output_type": "execute_result",
     "data": {
      "text/plain": "          data imputation       mae        mse      rmse        R2  mae_diff  \\\n0     original       none  3.604571  24.098505  4.909023  0.704940       NaN   \n0   1% imputed        AGE  3.610206  24.097314  4.908902  0.704954  0.005634   \n0   5% imputed        AGE  3.602697  23.959056  4.894799  0.706647 -0.001874   \n0  10% imputed        AGE  3.606641  24.039858  4.903046  0.705658  0.002070   \n0  20% imputed        AGE  3.613030  24.017633  4.900779  0.705930  0.008459   \n0  33% imputed        AGE  3.616309  24.027006  4.901735  0.705815  0.011738   \n\n   mse_diff  rmse_diff   R2_diff  \n0       NaN        NaN       NaN  \n0 -0.001191  -0.000121  0.000015  \n0 -0.139449  -0.014224  0.001707  \n0 -0.058647  -0.005977  0.000718  \n0 -0.080872  -0.008244  0.000990  \n0 -0.071499  -0.007288  0.000875  ",
      "text/html": "<div>\n<style scoped>\n    .dataframe tbody tr th:only-of-type {\n        vertical-align: middle;\n    }\n\n    .dataframe tbody tr th {\n        vertical-align: top;\n    }\n\n    .dataframe thead th {\n        text-align: right;\n    }\n</style>\n<table border=\"1\" class=\"dataframe\">\n  <thead>\n    <tr style=\"text-align: right;\">\n      <th></th>\n      <th>data</th>\n      <th>imputation</th>\n      <th>mae</th>\n      <th>mse</th>\n      <th>rmse</th>\n      <th>R2</th>\n      <th>mae_diff</th>\n      <th>mse_diff</th>\n      <th>rmse_diff</th>\n      <th>R2_diff</th>\n    </tr>\n  </thead>\n  <tbody>\n    <tr>\n      <th>0</th>\n      <td>original</td>\n      <td>none</td>\n      <td>3.604571</td>\n      <td>24.098505</td>\n      <td>4.909023</td>\n      <td>0.704940</td>\n      <td>NaN</td>\n      <td>NaN</td>\n      <td>NaN</td>\n      <td>NaN</td>\n    </tr>\n    <tr>\n      <th>0</th>\n      <td>1% imputed</td>\n      <td>AGE</td>\n      <td>3.610206</td>\n      <td>24.097314</td>\n      <td>4.908902</td>\n      <td>0.704954</td>\n      <td>0.005634</td>\n      <td>-0.001191</td>\n      <td>-0.000121</td>\n      <td>0.000015</td>\n    </tr>\n    <tr>\n      <th>0</th>\n      <td>5% imputed</td>\n      <td>AGE</td>\n      <td>3.602697</td>\n      <td>23.959056</td>\n      <td>4.894799</td>\n      <td>0.706647</td>\n      <td>-0.001874</td>\n      <td>-0.139449</td>\n      <td>-0.014224</td>\n      <td>0.001707</td>\n    </tr>\n    <tr>\n      <th>0</th>\n      <td>10% imputed</td>\n      <td>AGE</td>\n      <td>3.606641</td>\n      <td>24.039858</td>\n      <td>4.903046</td>\n      <td>0.705658</td>\n      <td>0.002070</td>\n      <td>-0.058647</td>\n      <td>-0.005977</td>\n      <td>0.000718</td>\n    </tr>\n    <tr>\n      <th>0</th>\n      <td>20% imputed</td>\n      <td>AGE</td>\n      <td>3.613030</td>\n      <td>24.017633</td>\n      <td>4.900779</td>\n      <td>0.705930</td>\n      <td>0.008459</td>\n      <td>-0.080872</td>\n      <td>-0.008244</td>\n      <td>0.000990</td>\n    </tr>\n    <tr>\n      <th>0</th>\n      <td>33% imputed</td>\n      <td>AGE</td>\n      <td>3.616309</td>\n      <td>24.027006</td>\n      <td>4.901735</td>\n      <td>0.705815</td>\n      <td>0.011738</td>\n      <td>-0.071499</td>\n      <td>-0.007288</td>\n      <td>0.000875</td>\n    </tr>\n  </tbody>\n</table>\n</div>"
     },
     "metadata": {},
     "execution_count": 20
    }
   ],
   "source": [
    "in_sample = bos.sample(frac=0.33, random_state=99)\n",
    "out_sample = bos[~bos.isin(in_sample)].dropna()\n",
    "in_sample['AGE'] = np.nan\n",
    "in_sample['AGE'] = in_sample['AGE'].fillna(out_sample['AGE'].median())\n",
    "imputed_data = pd.concat([in_sample, out_sample])\n",
    "imputed_data = imputed_data.sort_index()\n",
    "\n",
    "train_set = imputed_data.iloc[train_index]\n",
    "test_set = imputed_data.iloc[test_index]\n",
    "\n",
    "X_train = train_set.iloc[:, :-1].values\n",
    "Y_train = train_set.iloc[:, -1].values\n",
    "X_test = test_set.iloc[:, :-1].values\n",
    "Y_test = test_set.iloc[:, -1].values\n",
    "\n",
    "reg2 = LinearRegression().fit(X_train, Y_train)\n",
    "print(reg2.score(X_train, Y_train))\n",
    "print(reg2.coef_)\n",
    "print(reg2.intercept_)\n",
    "print(reg2.get_params())\n",
    "\n",
    "Y_pred = reg2.predict(X_test)\n",
    "\n",
    "mae = mean_absolute_error(Y_test,Y_pred)\n",
    "mse = mean_squared_error(Y_test,Y_pred)\n",
    "rmse_val = rmse(Y_test,Y_pred)\n",
    "r2 = r2_score(Y_test,Y_pred)\n",
    "print(\"MAE: %.3f\"%mae)\n",
    "print(\"MSE:  %.3f\"%mse)\n",
    "print(\"RMSE:  %.3f\"%rmse_val)\n",
    "print(\"R2:  %.3f\"%r2)\n",
    "\n",
    "temp_frame = pd.DataFrame({'data':'33% imputed',\n",
    "                   'imputation':'AGE',\n",
    "                   'mae': mae, \n",
    "                   'mse': mse, \n",
    "                   'rmse':rmse_val,\n",
    "                   'R2':r2,\n",
    "                   'mae_diff':mae-orig_mae,\n",
    "                   'mse_diff':mse-orig_mse,\n",
    "                   'rmse_diff':rmse_val-orig_rmse_val,\n",
    "                   'R2_diff':r2-orig_r2\n",
    "                   }, index=[0])\n",
    "\n",
    "res_frame = pd.concat([res_frame, temp_frame])\n",
    "res_frame"
   ]
  },
  {
   "cell_type": "code",
   "execution_count": 21,
   "metadata": {
    "tags": []
   },
   "outputs": [
    {
     "output_type": "stream",
     "name": "stdout",
     "text": "0.7473373503518663\n[-1.35809798e-01  5.31403869e-02  5.70717678e-02  3.68536976e+00\n -1.90691241e+01  4.07694384e+00 -3.45722949e-03 -1.54799454e+00\n  2.94339306e-01 -9.76870569e-03 -9.31654051e-01  6.61033432e-03\n -5.57201038e-01]\n35.65787483295117\n{'copy_X': True, 'fit_intercept': True, 'n_jobs': None, 'normalize': False}\nMAE: 3.601\nMSE:  23.889\nRMSE:  4.888\nR2:  0.708\n"
    },
    {
     "output_type": "execute_result",
     "data": {
      "text/plain": "          data imputation       mae        mse      rmse        R2  mae_diff  \\\n0     original       none  3.604571  24.098505  4.909023  0.704940       NaN   \n0   1% imputed        AGE  3.610206  24.097314  4.908902  0.704954  0.005634   \n0   5% imputed        AGE  3.602697  23.959056  4.894799  0.706647 -0.001874   \n0  10% imputed        AGE  3.606641  24.039858  4.903046  0.705658  0.002070   \n0  20% imputed        AGE  3.613030  24.017633  4.900779  0.705930  0.008459   \n0  33% imputed        AGE  3.616309  24.027006  4.901735  0.705815  0.011738   \n0  50% imputed        AGE  3.601175  23.888715  4.887608  0.707508 -0.003396   \n\n   mse_diff  rmse_diff   R2_diff  \n0       NaN        NaN       NaN  \n0 -0.001191  -0.000121  0.000015  \n0 -0.139449  -0.014224  0.001707  \n0 -0.058647  -0.005977  0.000718  \n0 -0.080872  -0.008244  0.000990  \n0 -0.071499  -0.007288  0.000875  \n0 -0.209790  -0.021414  0.002569  ",
      "text/html": "<div>\n<style scoped>\n    .dataframe tbody tr th:only-of-type {\n        vertical-align: middle;\n    }\n\n    .dataframe tbody tr th {\n        vertical-align: top;\n    }\n\n    .dataframe thead th {\n        text-align: right;\n    }\n</style>\n<table border=\"1\" class=\"dataframe\">\n  <thead>\n    <tr style=\"text-align: right;\">\n      <th></th>\n      <th>data</th>\n      <th>imputation</th>\n      <th>mae</th>\n      <th>mse</th>\n      <th>rmse</th>\n      <th>R2</th>\n      <th>mae_diff</th>\n      <th>mse_diff</th>\n      <th>rmse_diff</th>\n      <th>R2_diff</th>\n    </tr>\n  </thead>\n  <tbody>\n    <tr>\n      <th>0</th>\n      <td>original</td>\n      <td>none</td>\n      <td>3.604571</td>\n      <td>24.098505</td>\n      <td>4.909023</td>\n      <td>0.704940</td>\n      <td>NaN</td>\n      <td>NaN</td>\n      <td>NaN</td>\n      <td>NaN</td>\n    </tr>\n    <tr>\n      <th>0</th>\n      <td>1% imputed</td>\n      <td>AGE</td>\n      <td>3.610206</td>\n      <td>24.097314</td>\n      <td>4.908902</td>\n      <td>0.704954</td>\n      <td>0.005634</td>\n      <td>-0.001191</td>\n      <td>-0.000121</td>\n      <td>0.000015</td>\n    </tr>\n    <tr>\n      <th>0</th>\n      <td>5% imputed</td>\n      <td>AGE</td>\n      <td>3.602697</td>\n      <td>23.959056</td>\n      <td>4.894799</td>\n      <td>0.706647</td>\n      <td>-0.001874</td>\n      <td>-0.139449</td>\n      <td>-0.014224</td>\n      <td>0.001707</td>\n    </tr>\n    <tr>\n      <th>0</th>\n      <td>10% imputed</td>\n      <td>AGE</td>\n      <td>3.606641</td>\n      <td>24.039858</td>\n      <td>4.903046</td>\n      <td>0.705658</td>\n      <td>0.002070</td>\n      <td>-0.058647</td>\n      <td>-0.005977</td>\n      <td>0.000718</td>\n    </tr>\n    <tr>\n      <th>0</th>\n      <td>20% imputed</td>\n      <td>AGE</td>\n      <td>3.613030</td>\n      <td>24.017633</td>\n      <td>4.900779</td>\n      <td>0.705930</td>\n      <td>0.008459</td>\n      <td>-0.080872</td>\n      <td>-0.008244</td>\n      <td>0.000990</td>\n    </tr>\n    <tr>\n      <th>0</th>\n      <td>33% imputed</td>\n      <td>AGE</td>\n      <td>3.616309</td>\n      <td>24.027006</td>\n      <td>4.901735</td>\n      <td>0.705815</td>\n      <td>0.011738</td>\n      <td>-0.071499</td>\n      <td>-0.007288</td>\n      <td>0.000875</td>\n    </tr>\n    <tr>\n      <th>0</th>\n      <td>50% imputed</td>\n      <td>AGE</td>\n      <td>3.601175</td>\n      <td>23.888715</td>\n      <td>4.887608</td>\n      <td>0.707508</td>\n      <td>-0.003396</td>\n      <td>-0.209790</td>\n      <td>-0.021414</td>\n      <td>0.002569</td>\n    </tr>\n  </tbody>\n</table>\n</div>"
     },
     "metadata": {},
     "execution_count": 21
    }
   ],
   "source": [
    "in_sample = bos.sample(frac=0.5, random_state=99)\n",
    "out_sample = bos[~bos.isin(in_sample)].dropna()\n",
    "in_sample['AGE'] = np.nan\n",
    "in_sample['AGE'] = in_sample['AGE'].fillna(out_sample['AGE'].median())\n",
    "imputed_data = pd.concat([in_sample, out_sample])\n",
    "imputed_data = imputed_data.sort_index()\n",
    "\n",
    "train_set = imputed_data.iloc[train_index]\n",
    "test_set = imputed_data.iloc[test_index]\n",
    "\n",
    "X_train = train_set.iloc[:, :-1].values\n",
    "Y_train = train_set.iloc[:, -1].values\n",
    "X_test = test_set.iloc[:, :-1].values\n",
    "Y_test = test_set.iloc[:, -1].values\n",
    "\n",
    "reg2 = LinearRegression().fit(X_train, Y_train)\n",
    "print(reg2.score(X_train, Y_train))\n",
    "print(reg2.coef_)\n",
    "print(reg2.intercept_)\n",
    "print(reg2.get_params())\n",
    "\n",
    "Y_pred = reg2.predict(X_test)\n",
    "\n",
    "mae = mean_absolute_error(Y_test,Y_pred)\n",
    "mse = mean_squared_error(Y_test,Y_pred)\n",
    "rmse_val = rmse(Y_test,Y_pred)\n",
    "r2 = r2_score(Y_test,Y_pred)\n",
    "print(\"MAE: %.3f\"%mae)\n",
    "print(\"MSE:  %.3f\"%mse)\n",
    "print(\"RMSE:  %.3f\"%rmse_val)\n",
    "print(\"R2:  %.3f\"%r2)\n",
    "\n",
    "temp_frame = pd.DataFrame({'data':'50% imputed',\n",
    "                   'imputation':'AGE',\n",
    "                   'mae': mae, \n",
    "                   'mse': mse, \n",
    "                   'rmse':rmse_val,\n",
    "                   'R2':r2,\n",
    "                   'mae_diff':mae-orig_mae,\n",
    "                   'mse_diff':mse-orig_mse,\n",
    "                   'rmse_diff':rmse_val-orig_rmse_val,\n",
    "                   'R2_diff':r2-orig_r2\n",
    "                   }, index=[0])\n",
    "\n",
    "res_frame = pd.concat([res_frame, temp_frame])\n",
    "res_frame"
   ]
  },
  {
   "cell_type": "markdown",
   "metadata": {},
   "source": [
    "Step 3: Take two columns and create data “Missing at Random” when controlled for a third variable (i.e., if Variable Z is > 30, then Variables X, Y are randomly missing).  Use your preferred imputation method to fill in 10%, 20% and 30% of your missing data."
   ]
  },
  {
   "cell_type": "code",
   "execution_count": 22,
   "metadata": {
    "tags": []
   },
   "outputs": [
    {
     "output_type": "stream",
     "name": "stdout",
     "text": "0.7207321707972567\n[-8.54051643e-02  2.28874529e-02  2.14959020e-02  3.95018785e+00\n -1.40946388e+01  4.56807844e+00  1.98952584e-02 -9.07840801e-01\n  1.58091317e-02  3.34866266e-03 -9.00356272e-01  6.06041343e-03\n -5.63978435e-01]\n23.291400859846583\n{'copy_X': True, 'fit_intercept': True, 'n_jobs': None, 'normalize': False}\nMAE: 3.693\nMSE:  26.055\nRMSE:  5.104\nR2:  0.681\n"
    },
    {
     "output_type": "execute_result",
     "data": {
      "text/plain": "                              data imputation       mae        mse      rmse  \\\n0                         original       none  3.604571  24.098505  4.909023   \n0                       1% imputed        AGE  3.610206  24.097314  4.908902   \n0                       5% imputed        AGE  3.602697  23.959056  4.894799   \n0                      10% imputed        AGE  3.606641  24.039858  4.903046   \n0                      20% imputed        AGE  3.613030  24.017633  4.900779   \n0                      33% imputed        AGE  3.616309  24.027006  4.901735   \n0                      50% imputed        AGE  3.601175  23.888715  4.887608   \n0  10% imputed, random conditional   DIS, RAD  3.692728  26.055483  5.104457   \n\n         R2  mae_diff  mse_diff  rmse_diff   R2_diff  \n0  0.704940       NaN       NaN        NaN       NaN  \n0  0.704954  0.005634 -0.001191  -0.000121  0.000015  \n0  0.706647 -0.001874 -0.139449  -0.014224  0.001707  \n0  0.705658  0.002070 -0.058647  -0.005977  0.000718  \n0  0.705930  0.008459 -0.080872  -0.008244  0.000990  \n0  0.705815  0.011738 -0.071499  -0.007288  0.000875  \n0  0.707508 -0.003396 -0.209790  -0.021414  0.002569  \n0  0.680979  0.088156  1.956979   0.195434 -0.023961  ",
      "text/html": "<div>\n<style scoped>\n    .dataframe tbody tr th:only-of-type {\n        vertical-align: middle;\n    }\n\n    .dataframe tbody tr th {\n        vertical-align: top;\n    }\n\n    .dataframe thead th {\n        text-align: right;\n    }\n</style>\n<table border=\"1\" class=\"dataframe\">\n  <thead>\n    <tr style=\"text-align: right;\">\n      <th></th>\n      <th>data</th>\n      <th>imputation</th>\n      <th>mae</th>\n      <th>mse</th>\n      <th>rmse</th>\n      <th>R2</th>\n      <th>mae_diff</th>\n      <th>mse_diff</th>\n      <th>rmse_diff</th>\n      <th>R2_diff</th>\n    </tr>\n  </thead>\n  <tbody>\n    <tr>\n      <th>0</th>\n      <td>original</td>\n      <td>none</td>\n      <td>3.604571</td>\n      <td>24.098505</td>\n      <td>4.909023</td>\n      <td>0.704940</td>\n      <td>NaN</td>\n      <td>NaN</td>\n      <td>NaN</td>\n      <td>NaN</td>\n    </tr>\n    <tr>\n      <th>0</th>\n      <td>1% imputed</td>\n      <td>AGE</td>\n      <td>3.610206</td>\n      <td>24.097314</td>\n      <td>4.908902</td>\n      <td>0.704954</td>\n      <td>0.005634</td>\n      <td>-0.001191</td>\n      <td>-0.000121</td>\n      <td>0.000015</td>\n    </tr>\n    <tr>\n      <th>0</th>\n      <td>5% imputed</td>\n      <td>AGE</td>\n      <td>3.602697</td>\n      <td>23.959056</td>\n      <td>4.894799</td>\n      <td>0.706647</td>\n      <td>-0.001874</td>\n      <td>-0.139449</td>\n      <td>-0.014224</td>\n      <td>0.001707</td>\n    </tr>\n    <tr>\n      <th>0</th>\n      <td>10% imputed</td>\n      <td>AGE</td>\n      <td>3.606641</td>\n      <td>24.039858</td>\n      <td>4.903046</td>\n      <td>0.705658</td>\n      <td>0.002070</td>\n      <td>-0.058647</td>\n      <td>-0.005977</td>\n      <td>0.000718</td>\n    </tr>\n    <tr>\n      <th>0</th>\n      <td>20% imputed</td>\n      <td>AGE</td>\n      <td>3.613030</td>\n      <td>24.017633</td>\n      <td>4.900779</td>\n      <td>0.705930</td>\n      <td>0.008459</td>\n      <td>-0.080872</td>\n      <td>-0.008244</td>\n      <td>0.000990</td>\n    </tr>\n    <tr>\n      <th>0</th>\n      <td>33% imputed</td>\n      <td>AGE</td>\n      <td>3.616309</td>\n      <td>24.027006</td>\n      <td>4.901735</td>\n      <td>0.705815</td>\n      <td>0.011738</td>\n      <td>-0.071499</td>\n      <td>-0.007288</td>\n      <td>0.000875</td>\n    </tr>\n    <tr>\n      <th>0</th>\n      <td>50% imputed</td>\n      <td>AGE</td>\n      <td>3.601175</td>\n      <td>23.888715</td>\n      <td>4.887608</td>\n      <td>0.707508</td>\n      <td>-0.003396</td>\n      <td>-0.209790</td>\n      <td>-0.021414</td>\n      <td>0.002569</td>\n    </tr>\n    <tr>\n      <th>0</th>\n      <td>10% imputed, random conditional</td>\n      <td>DIS, RAD</td>\n      <td>3.692728</td>\n      <td>26.055483</td>\n      <td>5.104457</td>\n      <td>0.680979</td>\n      <td>0.088156</td>\n      <td>1.956979</td>\n      <td>0.195434</td>\n      <td>-0.023961</td>\n    </tr>\n  </tbody>\n</table>\n</div>"
     },
     "metadata": {},
     "execution_count": 22
    }
   ],
   "source": [
    "sample_rule = bos[bos['TAX']>300]\n",
    "in_sample = sample_rule.sample(n=round(len(bos)*0.1), random_state=99)\n",
    "out_sample = bos[~bos.isin(in_sample)].dropna()\n",
    "\n",
    "in_sample['DIS'] = np.nan\n",
    "in_sample['RAD'] = np.nan\n",
    "in_sample['DIS'] = in_sample['DIS'].fillna(out_sample['DIS'].median())\n",
    "in_sample['RAD'] = in_sample['RAD'].fillna(out_sample['RAD'].median())\n",
    "imputed_data = pd.concat([in_sample, out_sample])\n",
    "imputed_data = imputed_data.sort_index()\n",
    "\n",
    "train_set = imputed_data.iloc[train_index]\n",
    "test_set = imputed_data.iloc[test_index]\n",
    "\n",
    "X_train = train_set.iloc[:, :-1].values\n",
    "Y_train = train_set.iloc[:, -1].values\n",
    "X_test = test_set.iloc[:, :-1].values\n",
    "Y_test = test_set.iloc[:, -1].values\n",
    "\n",
    "reg2 = LinearRegression().fit(X_train, Y_train)\n",
    "print(reg2.score(X_train, Y_train))\n",
    "print(reg2.coef_)\n",
    "print(reg2.intercept_)\n",
    "print(reg2.get_params())\n",
    "\n",
    "Y_pred = reg2.predict(X_test)\n",
    "\n",
    "mae = mean_absolute_error(Y_test,Y_pred)\n",
    "mse = mean_squared_error(Y_test,Y_pred)\n",
    "rmse_val = rmse(Y_test,Y_pred)\n",
    "r2 = r2_score(Y_test,Y_pred)\n",
    "print(\"MAE: %.3f\"%mae)\n",
    "print(\"MSE:  %.3f\"%mse)\n",
    "print(\"RMSE:  %.3f\"%rmse_val)\n",
    "print(\"R2:  %.3f\"%r2)\n",
    "\n",
    "temp_frame = pd.DataFrame({'data':'10% imputed, random conditional',\n",
    "                   'imputation':'DIS, RAD',\n",
    "                   'mae': mae, \n",
    "                   'mse': mse, \n",
    "                   'rmse':rmse_val,\n",
    "                   'R2':r2,\n",
    "                   'mae_diff':mae-orig_mae,\n",
    "                   'mse_diff':mse-orig_mse,\n",
    "                   'rmse_diff':rmse_val-orig_rmse_val,\n",
    "                   'R2_diff':r2-orig_r2\n",
    "                   }, index=[0])\n",
    "\n",
    "res_frame = pd.concat([res_frame, temp_frame])\n",
    "res_frame"
   ]
  },
  {
   "cell_type": "code",
   "execution_count": 23,
   "metadata": {
    "tags": []
   },
   "outputs": [
    {
     "output_type": "stream",
     "name": "stdout",
     "text": "0.7166581456971772\n[-7.59962264e-02  1.87088414e-02  3.31163503e-02  3.93842441e+00\n -1.25588157e+01  4.59373049e+00  2.53448973e-02 -7.41018866e-01\n -1.56756034e-03  3.97887222e-03 -9.06129398e-01  5.80835280e-03\n -5.76587846e-01]\n21.42581241679657\n{'copy_X': True, 'fit_intercept': True, 'n_jobs': None, 'normalize': False}\nMAE: 3.734\nMSE:  26.589\nRMSE:  5.156\nR2:  0.674\n"
    },
    {
     "output_type": "execute_result",
     "data": {
      "text/plain": "                              data imputation       mae        mse      rmse  \\\n0                         original       none  3.604571  24.098505  4.909023   \n0                       1% imputed        AGE  3.610206  24.097314  4.908902   \n0                       5% imputed        AGE  3.602697  23.959056  4.894799   \n0                      10% imputed        AGE  3.606641  24.039858  4.903046   \n0                      20% imputed        AGE  3.613030  24.017633  4.900779   \n0                      33% imputed        AGE  3.616309  24.027006  4.901735   \n0                      50% imputed        AGE  3.601175  23.888715  4.887608   \n0  10% imputed, random conditional   DIS, RAD  3.692728  26.055483  5.104457   \n0  20% imputed, random conditional   DIS, RAD  3.733552  26.589079  5.156460   \n\n         R2  mae_diff  mse_diff  rmse_diff   R2_diff  \n0  0.704940       NaN       NaN        NaN       NaN  \n0  0.704954  0.005634 -0.001191  -0.000121  0.000015  \n0  0.706647 -0.001874 -0.139449  -0.014224  0.001707  \n0  0.705658  0.002070 -0.058647  -0.005977  0.000718  \n0  0.705930  0.008459 -0.080872  -0.008244  0.000990  \n0  0.705815  0.011738 -0.071499  -0.007288  0.000875  \n0  0.707508 -0.003396 -0.209790  -0.021414  0.002569  \n0  0.680979  0.088156  1.956979   0.195434 -0.023961  \n0  0.674445  0.128981  2.490574   0.247437 -0.030494  ",
      "text/html": "<div>\n<style scoped>\n    .dataframe tbody tr th:only-of-type {\n        vertical-align: middle;\n    }\n\n    .dataframe tbody tr th {\n        vertical-align: top;\n    }\n\n    .dataframe thead th {\n        text-align: right;\n    }\n</style>\n<table border=\"1\" class=\"dataframe\">\n  <thead>\n    <tr style=\"text-align: right;\">\n      <th></th>\n      <th>data</th>\n      <th>imputation</th>\n      <th>mae</th>\n      <th>mse</th>\n      <th>rmse</th>\n      <th>R2</th>\n      <th>mae_diff</th>\n      <th>mse_diff</th>\n      <th>rmse_diff</th>\n      <th>R2_diff</th>\n    </tr>\n  </thead>\n  <tbody>\n    <tr>\n      <th>0</th>\n      <td>original</td>\n      <td>none</td>\n      <td>3.604571</td>\n      <td>24.098505</td>\n      <td>4.909023</td>\n      <td>0.704940</td>\n      <td>NaN</td>\n      <td>NaN</td>\n      <td>NaN</td>\n      <td>NaN</td>\n    </tr>\n    <tr>\n      <th>0</th>\n      <td>1% imputed</td>\n      <td>AGE</td>\n      <td>3.610206</td>\n      <td>24.097314</td>\n      <td>4.908902</td>\n      <td>0.704954</td>\n      <td>0.005634</td>\n      <td>-0.001191</td>\n      <td>-0.000121</td>\n      <td>0.000015</td>\n    </tr>\n    <tr>\n      <th>0</th>\n      <td>5% imputed</td>\n      <td>AGE</td>\n      <td>3.602697</td>\n      <td>23.959056</td>\n      <td>4.894799</td>\n      <td>0.706647</td>\n      <td>-0.001874</td>\n      <td>-0.139449</td>\n      <td>-0.014224</td>\n      <td>0.001707</td>\n    </tr>\n    <tr>\n      <th>0</th>\n      <td>10% imputed</td>\n      <td>AGE</td>\n      <td>3.606641</td>\n      <td>24.039858</td>\n      <td>4.903046</td>\n      <td>0.705658</td>\n      <td>0.002070</td>\n      <td>-0.058647</td>\n      <td>-0.005977</td>\n      <td>0.000718</td>\n    </tr>\n    <tr>\n      <th>0</th>\n      <td>20% imputed</td>\n      <td>AGE</td>\n      <td>3.613030</td>\n      <td>24.017633</td>\n      <td>4.900779</td>\n      <td>0.705930</td>\n      <td>0.008459</td>\n      <td>-0.080872</td>\n      <td>-0.008244</td>\n      <td>0.000990</td>\n    </tr>\n    <tr>\n      <th>0</th>\n      <td>33% imputed</td>\n      <td>AGE</td>\n      <td>3.616309</td>\n      <td>24.027006</td>\n      <td>4.901735</td>\n      <td>0.705815</td>\n      <td>0.011738</td>\n      <td>-0.071499</td>\n      <td>-0.007288</td>\n      <td>0.000875</td>\n    </tr>\n    <tr>\n      <th>0</th>\n      <td>50% imputed</td>\n      <td>AGE</td>\n      <td>3.601175</td>\n      <td>23.888715</td>\n      <td>4.887608</td>\n      <td>0.707508</td>\n      <td>-0.003396</td>\n      <td>-0.209790</td>\n      <td>-0.021414</td>\n      <td>0.002569</td>\n    </tr>\n    <tr>\n      <th>0</th>\n      <td>10% imputed, random conditional</td>\n      <td>DIS, RAD</td>\n      <td>3.692728</td>\n      <td>26.055483</td>\n      <td>5.104457</td>\n      <td>0.680979</td>\n      <td>0.088156</td>\n      <td>1.956979</td>\n      <td>0.195434</td>\n      <td>-0.023961</td>\n    </tr>\n    <tr>\n      <th>0</th>\n      <td>20% imputed, random conditional</td>\n      <td>DIS, RAD</td>\n      <td>3.733552</td>\n      <td>26.589079</td>\n      <td>5.156460</td>\n      <td>0.674445</td>\n      <td>0.128981</td>\n      <td>2.490574</td>\n      <td>0.247437</td>\n      <td>-0.030494</td>\n    </tr>\n  </tbody>\n</table>\n</div>"
     },
     "metadata": {},
     "execution_count": 23
    }
   ],
   "source": [
    "sample_rule = bos[bos['TAX']>300]\n",
    "in_sample = sample_rule.sample(n=round(len(bos)*0.2), random_state=99)\n",
    "out_sample = bos[~bos.isin(in_sample)].dropna()\n",
    "\n",
    "in_sample['DIS'] = np.nan\n",
    "in_sample['RAD'] = np.nan\n",
    "in_sample['DIS'] = in_sample['DIS'].fillna(out_sample['DIS'].median())\n",
    "in_sample['RAD'] = in_sample['RAD'].fillna(out_sample['RAD'].median())\n",
    "imputed_data = pd.concat([in_sample, out_sample])\n",
    "imputed_data = imputed_data.sort_index()\n",
    "\n",
    "train_set = imputed_data.iloc[train_index]\n",
    "test_set = imputed_data.iloc[test_index]\n",
    "\n",
    "X_train = train_set.iloc[:, :-1].values\n",
    "Y_train = train_set.iloc[:, -1].values\n",
    "X_test = test_set.iloc[:, :-1].values\n",
    "Y_test = test_set.iloc[:, -1].values\n",
    "\n",
    "reg2 = LinearRegression().fit(X_train, Y_train)\n",
    "print(reg2.score(X_train, Y_train))\n",
    "print(reg2.coef_)\n",
    "print(reg2.intercept_)\n",
    "print(reg2.get_params())\n",
    "\n",
    "Y_pred = reg2.predict(X_test)\n",
    "\n",
    "mae = mean_absolute_error(Y_test,Y_pred)\n",
    "mse = mean_squared_error(Y_test,Y_pred)\n",
    "rmse_val = rmse(Y_test,Y_pred)\n",
    "r2 = r2_score(Y_test,Y_pred)\n",
    "print(\"MAE: %.3f\"%mae)\n",
    "print(\"MSE:  %.3f\"%mse)\n",
    "print(\"RMSE:  %.3f\"%rmse_val)\n",
    "print(\"R2:  %.3f\"%r2)\n",
    "\n",
    "temp_frame = pd.DataFrame({'data':'20% imputed, random conditional',\n",
    "                   'imputation':'DIS, RAD',\n",
    "                   'mae': mae, \n",
    "                   'mse': mse, \n",
    "                   'rmse':rmse_val,\n",
    "                   'R2':r2,\n",
    "                   'mae_diff':mae-orig_mae,\n",
    "                   'mse_diff':mse-orig_mse,\n",
    "                   'rmse_diff':rmse_val-orig_rmse_val,\n",
    "                   'R2_diff':r2-orig_r2\n",
    "                   }, index=[0])\n",
    "\n",
    "res_frame = pd.concat([res_frame, temp_frame])\n",
    "res_frame"
   ]
  },
  {
   "cell_type": "code",
   "execution_count": 24,
   "metadata": {
    "tags": []
   },
   "outputs": [
    {
     "output_type": "stream",
     "name": "stdout",
     "text": "0.7133781947898175\n[-6.48649826e-02  1.41020882e-02  3.26953250e-02  4.05097349e+00\n -1.16308679e+01  4.64098975e+00  2.82978881e-02 -5.92572594e-01\n -8.04266284e-02  5.99956146e-03 -8.95646564e-01  4.99989123e-03\n -5.76483394e-01]\n19.735388086838327\n{'copy_X': True, 'fit_intercept': True, 'n_jobs': None, 'normalize': False}\nMAE: 3.743\nMSE:  27.010\nRMSE:  5.197\nR2:  0.669\n"
    },
    {
     "output_type": "execute_result",
     "data": {
      "text/plain": "                              data imputation       mae        mse      rmse  \\\n0                         original       none  3.604571  24.098505  4.909023   \n0                       1% imputed        AGE  3.610206  24.097314  4.908902   \n0                       5% imputed        AGE  3.602697  23.959056  4.894799   \n0                      10% imputed        AGE  3.606641  24.039858  4.903046   \n0                      20% imputed        AGE  3.613030  24.017633  4.900779   \n0                      33% imputed        AGE  3.616309  24.027006  4.901735   \n0                      50% imputed        AGE  3.601175  23.888715  4.887608   \n0  10% imputed, random conditional   DIS, RAD  3.692728  26.055483  5.104457   \n0  20% imputed, random conditional   DIS, RAD  3.733552  26.589079  5.156460   \n0  30% imputed, random conditional   DIS, RAD  3.743284  27.010335  5.197147   \n\n         R2  mae_diff  mse_diff  rmse_diff   R2_diff  \n0  0.704940       NaN       NaN        NaN       NaN  \n0  0.704954  0.005634 -0.001191  -0.000121  0.000015  \n0  0.706647 -0.001874 -0.139449  -0.014224  0.001707  \n0  0.705658  0.002070 -0.058647  -0.005977  0.000718  \n0  0.705930  0.008459 -0.080872  -0.008244  0.000990  \n0  0.705815  0.011738 -0.071499  -0.007288  0.000875  \n0  0.707508 -0.003396 -0.209790  -0.021414  0.002569  \n0  0.680979  0.088156  1.956979   0.195434 -0.023961  \n0  0.674445  0.128981  2.490574   0.247437 -0.030494  \n0  0.669288  0.138713  2.911830   0.288124 -0.035652  ",
      "text/html": "<div>\n<style scoped>\n    .dataframe tbody tr th:only-of-type {\n        vertical-align: middle;\n    }\n\n    .dataframe tbody tr th {\n        vertical-align: top;\n    }\n\n    .dataframe thead th {\n        text-align: right;\n    }\n</style>\n<table border=\"1\" class=\"dataframe\">\n  <thead>\n    <tr style=\"text-align: right;\">\n      <th></th>\n      <th>data</th>\n      <th>imputation</th>\n      <th>mae</th>\n      <th>mse</th>\n      <th>rmse</th>\n      <th>R2</th>\n      <th>mae_diff</th>\n      <th>mse_diff</th>\n      <th>rmse_diff</th>\n      <th>R2_diff</th>\n    </tr>\n  </thead>\n  <tbody>\n    <tr>\n      <th>0</th>\n      <td>original</td>\n      <td>none</td>\n      <td>3.604571</td>\n      <td>24.098505</td>\n      <td>4.909023</td>\n      <td>0.704940</td>\n      <td>NaN</td>\n      <td>NaN</td>\n      <td>NaN</td>\n      <td>NaN</td>\n    </tr>\n    <tr>\n      <th>0</th>\n      <td>1% imputed</td>\n      <td>AGE</td>\n      <td>3.610206</td>\n      <td>24.097314</td>\n      <td>4.908902</td>\n      <td>0.704954</td>\n      <td>0.005634</td>\n      <td>-0.001191</td>\n      <td>-0.000121</td>\n      <td>0.000015</td>\n    </tr>\n    <tr>\n      <th>0</th>\n      <td>5% imputed</td>\n      <td>AGE</td>\n      <td>3.602697</td>\n      <td>23.959056</td>\n      <td>4.894799</td>\n      <td>0.706647</td>\n      <td>-0.001874</td>\n      <td>-0.139449</td>\n      <td>-0.014224</td>\n      <td>0.001707</td>\n    </tr>\n    <tr>\n      <th>0</th>\n      <td>10% imputed</td>\n      <td>AGE</td>\n      <td>3.606641</td>\n      <td>24.039858</td>\n      <td>4.903046</td>\n      <td>0.705658</td>\n      <td>0.002070</td>\n      <td>-0.058647</td>\n      <td>-0.005977</td>\n      <td>0.000718</td>\n    </tr>\n    <tr>\n      <th>0</th>\n      <td>20% imputed</td>\n      <td>AGE</td>\n      <td>3.613030</td>\n      <td>24.017633</td>\n      <td>4.900779</td>\n      <td>0.705930</td>\n      <td>0.008459</td>\n      <td>-0.080872</td>\n      <td>-0.008244</td>\n      <td>0.000990</td>\n    </tr>\n    <tr>\n      <th>0</th>\n      <td>33% imputed</td>\n      <td>AGE</td>\n      <td>3.616309</td>\n      <td>24.027006</td>\n      <td>4.901735</td>\n      <td>0.705815</td>\n      <td>0.011738</td>\n      <td>-0.071499</td>\n      <td>-0.007288</td>\n      <td>0.000875</td>\n    </tr>\n    <tr>\n      <th>0</th>\n      <td>50% imputed</td>\n      <td>AGE</td>\n      <td>3.601175</td>\n      <td>23.888715</td>\n      <td>4.887608</td>\n      <td>0.707508</td>\n      <td>-0.003396</td>\n      <td>-0.209790</td>\n      <td>-0.021414</td>\n      <td>0.002569</td>\n    </tr>\n    <tr>\n      <th>0</th>\n      <td>10% imputed, random conditional</td>\n      <td>DIS, RAD</td>\n      <td>3.692728</td>\n      <td>26.055483</td>\n      <td>5.104457</td>\n      <td>0.680979</td>\n      <td>0.088156</td>\n      <td>1.956979</td>\n      <td>0.195434</td>\n      <td>-0.023961</td>\n    </tr>\n    <tr>\n      <th>0</th>\n      <td>20% imputed, random conditional</td>\n      <td>DIS, RAD</td>\n      <td>3.733552</td>\n      <td>26.589079</td>\n      <td>5.156460</td>\n      <td>0.674445</td>\n      <td>0.128981</td>\n      <td>2.490574</td>\n      <td>0.247437</td>\n      <td>-0.030494</td>\n    </tr>\n    <tr>\n      <th>0</th>\n      <td>30% imputed, random conditional</td>\n      <td>DIS, RAD</td>\n      <td>3.743284</td>\n      <td>27.010335</td>\n      <td>5.197147</td>\n      <td>0.669288</td>\n      <td>0.138713</td>\n      <td>2.911830</td>\n      <td>0.288124</td>\n      <td>-0.035652</td>\n    </tr>\n  </tbody>\n</table>\n</div>"
     },
     "metadata": {},
     "execution_count": 24
    }
   ],
   "source": [
    "sample_rule = bos[bos['TAX']>300]\n",
    "in_sample = sample_rule.sample(n=round(len(bos)*0.3), random_state=99)\n",
    "out_sample = bos[~bos.isin(in_sample)].dropna()\n",
    "\n",
    "in_sample['DIS'] = np.nan\n",
    "in_sample['RAD'] = np.nan\n",
    "in_sample['DIS'] = in_sample['DIS'].fillna(out_sample['DIS'].median())\n",
    "in_sample['RAD'] = in_sample['RAD'].fillna(out_sample['RAD'].median())\n",
    "imputed_data = pd.concat([in_sample, out_sample])\n",
    "imputed_data = imputed_data.sort_index()\n",
    "\n",
    "train_set = imputed_data.iloc[train_index]\n",
    "test_set = imputed_data.iloc[test_index]\n",
    "\n",
    "X_train = train_set.iloc[:, :-1].values\n",
    "Y_train = train_set.iloc[:, -1].values\n",
    "X_test = test_set.iloc[:, :-1].values\n",
    "Y_test = test_set.iloc[:, -1].values\n",
    "\n",
    "reg2 = LinearRegression().fit(X_train, Y_train)\n",
    "print(reg2.score(X_train, Y_train))\n",
    "print(reg2.coef_)\n",
    "print(reg2.intercept_)\n",
    "print(reg2.get_params())\n",
    "\n",
    "Y_pred = reg2.predict(X_test)\n",
    "\n",
    "mae = mean_absolute_error(Y_test,Y_pred)\n",
    "mse = mean_squared_error(Y_test,Y_pred)\n",
    "rmse_val = rmse(Y_test,Y_pred)\n",
    "r2 = r2_score(Y_test,Y_pred)\n",
    "print(\"MAE: %.3f\"%mae)\n",
    "print(\"MSE:  %.3f\"%mse)\n",
    "print(\"RMSE:  %.3f\"%rmse_val)\n",
    "print(\"R2:  %.3f\"%r2)\n",
    "\n",
    "temp_frame = pd.DataFrame({'data':'30% imputed, random conditional',\n",
    "                   'imputation':'DIS, RAD',\n",
    "                   'mae': mae, \n",
    "                   'mse': mse, \n",
    "                   'rmse':rmse_val,\n",
    "                   'R2':r2,\n",
    "                   'mae_diff':mae-orig_mae,\n",
    "                   'mse_diff':mse-orig_mse,\n",
    "                   'rmse_diff':rmse_val-orig_rmse_val,\n",
    "                   'R2_diff':r2-orig_r2\n",
    "                   }, index=[0])\n",
    "\n",
    "res_frame = pd.concat([res_frame, temp_frame])\n",
    "res_frame"
   ]
  },
  {
   "cell_type": "markdown",
   "metadata": {},
   "source": [
    "Step 4:  Create a “Missing Not at Random” pattern in which 25% of the data is missing for a single column."
   ]
  },
  {
   "cell_type": "code",
   "execution_count": 25,
   "metadata": {},
   "outputs": [
    {
     "output_type": "execute_result",
     "data": {
      "text/plain": "CRIM         0.082045\nZN           0.000000\nINDUS        5.190000\nCHAS         0.000000\nNOX          0.449000\nRM           5.885500\nAGE         45.025000\nDIS          2.100175\nRAD          4.000000\nTAX        279.000000\nPTRATIO     17.400000\nB          375.377500\nLSTAT        6.950000\nMEDV        17.025000\nName: 0.25, dtype: float64"
     },
     "metadata": {},
     "execution_count": 25
    }
   ],
   "source": [
    "bos.quantile(.25)"
   ]
  },
  {
   "cell_type": "code",
   "execution_count": 26,
   "metadata": {},
   "outputs": [
    {
     "output_type": "execute_result",
     "data": {
      "text/plain": "        CRIM    ZN  INDUS  CHAS    NOX     RM   AGE     DIS  RAD    TAX  \\\n0    0.00632  18.0   2.31   0.0  0.538  6.575  65.2  4.0900  1.0  296.0   \n1    0.02731   0.0   7.07   0.0  0.469  6.421  78.9  4.9671  2.0  242.0   \n2    0.02729   0.0   7.07   0.0  0.469  7.185  61.1  4.9671  2.0  242.0   \n3    0.03237   0.0   2.18   0.0  0.458  6.998  45.8  6.0622  3.0  222.0   \n4    0.06905   0.0   2.18   0.0  0.458  7.147  54.2  6.0622  3.0  222.0   \n..       ...   ...    ...   ...    ...    ...   ...     ...  ...    ...   \n501  0.06263   0.0  11.93   0.0  0.573  6.593  69.1  2.4786  1.0  273.0   \n502  0.04527   0.0  11.93   0.0  0.573  6.120  76.7  2.2875  1.0  273.0   \n503  0.06076   0.0  11.93   0.0  0.573  6.976  91.0  2.1675  1.0  273.0   \n504  0.10959   0.0  11.93   0.0  0.573  6.794  89.3  2.3889  1.0  273.0   \n505  0.04741   0.0  11.93   0.0  0.573  6.030  80.8  2.5050  1.0  273.0   \n\n     PTRATIO       B  LSTAT  MEDV  \n0       15.3  396.90   4.98  24.0  \n1       17.8  396.90   9.14  21.6  \n2       17.8  392.83   4.03  34.7  \n3       18.7  394.63   2.94  33.4  \n4       18.7  396.90   5.33  36.2  \n..       ...     ...    ...   ...  \n501     21.0  391.99   9.67  22.4  \n502     21.0  396.90   9.08  20.6  \n503     21.0  396.90   5.64  23.9  \n504     21.0  393.45   6.48  22.0  \n505     21.0  396.90   7.88  11.9  \n\n[506 rows x 14 columns]",
      "text/html": "<div>\n<style scoped>\n    .dataframe tbody tr th:only-of-type {\n        vertical-align: middle;\n    }\n\n    .dataframe tbody tr th {\n        vertical-align: top;\n    }\n\n    .dataframe thead th {\n        text-align: right;\n    }\n</style>\n<table border=\"1\" class=\"dataframe\">\n  <thead>\n    <tr style=\"text-align: right;\">\n      <th></th>\n      <th>CRIM</th>\n      <th>ZN</th>\n      <th>INDUS</th>\n      <th>CHAS</th>\n      <th>NOX</th>\n      <th>RM</th>\n      <th>AGE</th>\n      <th>DIS</th>\n      <th>RAD</th>\n      <th>TAX</th>\n      <th>PTRATIO</th>\n      <th>B</th>\n      <th>LSTAT</th>\n      <th>MEDV</th>\n    </tr>\n  </thead>\n  <tbody>\n    <tr>\n      <th>0</th>\n      <td>0.00632</td>\n      <td>18.0</td>\n      <td>2.31</td>\n      <td>0.0</td>\n      <td>0.538</td>\n      <td>6.575</td>\n      <td>65.2</td>\n      <td>4.0900</td>\n      <td>1.0</td>\n      <td>296.0</td>\n      <td>15.3</td>\n      <td>396.90</td>\n      <td>4.98</td>\n      <td>24.0</td>\n    </tr>\n    <tr>\n      <th>1</th>\n      <td>0.02731</td>\n      <td>0.0</td>\n      <td>7.07</td>\n      <td>0.0</td>\n      <td>0.469</td>\n      <td>6.421</td>\n      <td>78.9</td>\n      <td>4.9671</td>\n      <td>2.0</td>\n      <td>242.0</td>\n      <td>17.8</td>\n      <td>396.90</td>\n      <td>9.14</td>\n      <td>21.6</td>\n    </tr>\n    <tr>\n      <th>2</th>\n      <td>0.02729</td>\n      <td>0.0</td>\n      <td>7.07</td>\n      <td>0.0</td>\n      <td>0.469</td>\n      <td>7.185</td>\n      <td>61.1</td>\n      <td>4.9671</td>\n      <td>2.0</td>\n      <td>242.0</td>\n      <td>17.8</td>\n      <td>392.83</td>\n      <td>4.03</td>\n      <td>34.7</td>\n    </tr>\n    <tr>\n      <th>3</th>\n      <td>0.03237</td>\n      <td>0.0</td>\n      <td>2.18</td>\n      <td>0.0</td>\n      <td>0.458</td>\n      <td>6.998</td>\n      <td>45.8</td>\n      <td>6.0622</td>\n      <td>3.0</td>\n      <td>222.0</td>\n      <td>18.7</td>\n      <td>394.63</td>\n      <td>2.94</td>\n      <td>33.4</td>\n    </tr>\n    <tr>\n      <th>4</th>\n      <td>0.06905</td>\n      <td>0.0</td>\n      <td>2.18</td>\n      <td>0.0</td>\n      <td>0.458</td>\n      <td>7.147</td>\n      <td>54.2</td>\n      <td>6.0622</td>\n      <td>3.0</td>\n      <td>222.0</td>\n      <td>18.7</td>\n      <td>396.90</td>\n      <td>5.33</td>\n      <td>36.2</td>\n    </tr>\n    <tr>\n      <th>...</th>\n      <td>...</td>\n      <td>...</td>\n      <td>...</td>\n      <td>...</td>\n      <td>...</td>\n      <td>...</td>\n      <td>...</td>\n      <td>...</td>\n      <td>...</td>\n      <td>...</td>\n      <td>...</td>\n      <td>...</td>\n      <td>...</td>\n      <td>...</td>\n    </tr>\n    <tr>\n      <th>501</th>\n      <td>0.06263</td>\n      <td>0.0</td>\n      <td>11.93</td>\n      <td>0.0</td>\n      <td>0.573</td>\n      <td>6.593</td>\n      <td>69.1</td>\n      <td>2.4786</td>\n      <td>1.0</td>\n      <td>273.0</td>\n      <td>21.0</td>\n      <td>391.99</td>\n      <td>9.67</td>\n      <td>22.4</td>\n    </tr>\n    <tr>\n      <th>502</th>\n      <td>0.04527</td>\n      <td>0.0</td>\n      <td>11.93</td>\n      <td>0.0</td>\n      <td>0.573</td>\n      <td>6.120</td>\n      <td>76.7</td>\n      <td>2.2875</td>\n      <td>1.0</td>\n      <td>273.0</td>\n      <td>21.0</td>\n      <td>396.90</td>\n      <td>9.08</td>\n      <td>20.6</td>\n    </tr>\n    <tr>\n      <th>503</th>\n      <td>0.06076</td>\n      <td>0.0</td>\n      <td>11.93</td>\n      <td>0.0</td>\n      <td>0.573</td>\n      <td>6.976</td>\n      <td>91.0</td>\n      <td>2.1675</td>\n      <td>1.0</td>\n      <td>273.0</td>\n      <td>21.0</td>\n      <td>396.90</td>\n      <td>5.64</td>\n      <td>23.9</td>\n    </tr>\n    <tr>\n      <th>504</th>\n      <td>0.10959</td>\n      <td>0.0</td>\n      <td>11.93</td>\n      <td>0.0</td>\n      <td>0.573</td>\n      <td>6.794</td>\n      <td>89.3</td>\n      <td>2.3889</td>\n      <td>1.0</td>\n      <td>273.0</td>\n      <td>21.0</td>\n      <td>393.45</td>\n      <td>6.48</td>\n      <td>22.0</td>\n    </tr>\n    <tr>\n      <th>505</th>\n      <td>0.04741</td>\n      <td>0.0</td>\n      <td>11.93</td>\n      <td>0.0</td>\n      <td>0.573</td>\n      <td>6.030</td>\n      <td>80.8</td>\n      <td>2.5050</td>\n      <td>1.0</td>\n      <td>273.0</td>\n      <td>21.0</td>\n      <td>396.90</td>\n      <td>7.88</td>\n      <td>11.9</td>\n    </tr>\n  </tbody>\n</table>\n<p>506 rows × 14 columns</p>\n</div>"
     },
     "metadata": {},
     "execution_count": 26
    }
   ],
   "source": [
    "bos"
   ]
  },
  {
   "cell_type": "code",
   "execution_count": 27,
   "metadata": {
    "tags": []
   },
   "outputs": [
    {
     "output_type": "stream",
     "name": "stdout",
     "text": "0.74882024305077\n[-1.38722412e-01  4.72664711e-02  4.92364341e-02  3.68307222e+00\n -2.01437938e+01  4.03157690e+00  2.88202631e-02 -1.49849855e+00\n  3.10319982e-01 -1.04093423e-02 -9.40174703e-01  6.46378582e-03\n -5.69186977e-01]\n34.31942340549018\n{'copy_X': True, 'fit_intercept': True, 'n_jobs': None, 'normalize': False}\nMAE: 3.582\nMSE:  23.733\nRMSE:  4.872\nR2:  0.709\n"
    },
    {
     "output_type": "execute_result",
     "data": {
      "text/plain": "                              data imputation       mae        mse      rmse  \\\n0                         original       none  3.604571  24.098505  4.909023   \n0                       1% imputed        AGE  3.610206  24.097314  4.908902   \n0                       5% imputed        AGE  3.602697  23.959056  4.894799   \n0                      10% imputed        AGE  3.606641  24.039858  4.903046   \n0                      20% imputed        AGE  3.613030  24.017633  4.900779   \n0                      33% imputed        AGE  3.616309  24.027006  4.901735   \n0                      50% imputed        AGE  3.601175  23.888715  4.887608   \n0  10% imputed, random conditional   DIS, RAD  3.692728  26.055483  5.104457   \n0  20% imputed, random conditional   DIS, RAD  3.733552  26.589079  5.156460   \n0  30% imputed, random conditional   DIS, RAD  3.743284  27.010335  5.197147   \n0        25% Missing Not At Random        AGE  3.582218  23.732506  4.871602   \n\n         R2  mae_diff  mse_diff  rmse_diff   R2_diff  \n0  0.704940       NaN       NaN        NaN       NaN  \n0  0.704954  0.005634 -0.001191  -0.000121  0.000015  \n0  0.706647 -0.001874 -0.139449  -0.014224  0.001707  \n0  0.705658  0.002070 -0.058647  -0.005977  0.000718  \n0  0.705930  0.008459 -0.080872  -0.008244  0.000990  \n0  0.705815  0.011738 -0.071499  -0.007288  0.000875  \n0  0.707508 -0.003396 -0.209790  -0.021414  0.002569  \n0  0.680979  0.088156  1.956979   0.195434 -0.023961  \n0  0.674445  0.128981  2.490574   0.247437 -0.030494  \n0  0.669288  0.138713  2.911830   0.288124 -0.035652  \n0  0.709421 -0.022353 -0.365999  -0.037421  0.004481  ",
      "text/html": "<div>\n<style scoped>\n    .dataframe tbody tr th:only-of-type {\n        vertical-align: middle;\n    }\n\n    .dataframe tbody tr th {\n        vertical-align: top;\n    }\n\n    .dataframe thead th {\n        text-align: right;\n    }\n</style>\n<table border=\"1\" class=\"dataframe\">\n  <thead>\n    <tr style=\"text-align: right;\">\n      <th></th>\n      <th>data</th>\n      <th>imputation</th>\n      <th>mae</th>\n      <th>mse</th>\n      <th>rmse</th>\n      <th>R2</th>\n      <th>mae_diff</th>\n      <th>mse_diff</th>\n      <th>rmse_diff</th>\n      <th>R2_diff</th>\n    </tr>\n  </thead>\n  <tbody>\n    <tr>\n      <th>0</th>\n      <td>original</td>\n      <td>none</td>\n      <td>3.604571</td>\n      <td>24.098505</td>\n      <td>4.909023</td>\n      <td>0.704940</td>\n      <td>NaN</td>\n      <td>NaN</td>\n      <td>NaN</td>\n      <td>NaN</td>\n    </tr>\n    <tr>\n      <th>0</th>\n      <td>1% imputed</td>\n      <td>AGE</td>\n      <td>3.610206</td>\n      <td>24.097314</td>\n      <td>4.908902</td>\n      <td>0.704954</td>\n      <td>0.005634</td>\n      <td>-0.001191</td>\n      <td>-0.000121</td>\n      <td>0.000015</td>\n    </tr>\n    <tr>\n      <th>0</th>\n      <td>5% imputed</td>\n      <td>AGE</td>\n      <td>3.602697</td>\n      <td>23.959056</td>\n      <td>4.894799</td>\n      <td>0.706647</td>\n      <td>-0.001874</td>\n      <td>-0.139449</td>\n      <td>-0.014224</td>\n      <td>0.001707</td>\n    </tr>\n    <tr>\n      <th>0</th>\n      <td>10% imputed</td>\n      <td>AGE</td>\n      <td>3.606641</td>\n      <td>24.039858</td>\n      <td>4.903046</td>\n      <td>0.705658</td>\n      <td>0.002070</td>\n      <td>-0.058647</td>\n      <td>-0.005977</td>\n      <td>0.000718</td>\n    </tr>\n    <tr>\n      <th>0</th>\n      <td>20% imputed</td>\n      <td>AGE</td>\n      <td>3.613030</td>\n      <td>24.017633</td>\n      <td>4.900779</td>\n      <td>0.705930</td>\n      <td>0.008459</td>\n      <td>-0.080872</td>\n      <td>-0.008244</td>\n      <td>0.000990</td>\n    </tr>\n    <tr>\n      <th>0</th>\n      <td>33% imputed</td>\n      <td>AGE</td>\n      <td>3.616309</td>\n      <td>24.027006</td>\n      <td>4.901735</td>\n      <td>0.705815</td>\n      <td>0.011738</td>\n      <td>-0.071499</td>\n      <td>-0.007288</td>\n      <td>0.000875</td>\n    </tr>\n    <tr>\n      <th>0</th>\n      <td>50% imputed</td>\n      <td>AGE</td>\n      <td>3.601175</td>\n      <td>23.888715</td>\n      <td>4.887608</td>\n      <td>0.707508</td>\n      <td>-0.003396</td>\n      <td>-0.209790</td>\n      <td>-0.021414</td>\n      <td>0.002569</td>\n    </tr>\n    <tr>\n      <th>0</th>\n      <td>10% imputed, random conditional</td>\n      <td>DIS, RAD</td>\n      <td>3.692728</td>\n      <td>26.055483</td>\n      <td>5.104457</td>\n      <td>0.680979</td>\n      <td>0.088156</td>\n      <td>1.956979</td>\n      <td>0.195434</td>\n      <td>-0.023961</td>\n    </tr>\n    <tr>\n      <th>0</th>\n      <td>20% imputed, random conditional</td>\n      <td>DIS, RAD</td>\n      <td>3.733552</td>\n      <td>26.589079</td>\n      <td>5.156460</td>\n      <td>0.674445</td>\n      <td>0.128981</td>\n      <td>2.490574</td>\n      <td>0.247437</td>\n      <td>-0.030494</td>\n    </tr>\n    <tr>\n      <th>0</th>\n      <td>30% imputed, random conditional</td>\n      <td>DIS, RAD</td>\n      <td>3.743284</td>\n      <td>27.010335</td>\n      <td>5.197147</td>\n      <td>0.669288</td>\n      <td>0.138713</td>\n      <td>2.911830</td>\n      <td>0.288124</td>\n      <td>-0.035652</td>\n    </tr>\n    <tr>\n      <th>0</th>\n      <td>25% Missing Not At Random</td>\n      <td>AGE</td>\n      <td>3.582218</td>\n      <td>23.732506</td>\n      <td>4.871602</td>\n      <td>0.709421</td>\n      <td>-0.022353</td>\n      <td>-0.365999</td>\n      <td>-0.037421</td>\n      <td>0.004481</td>\n    </tr>\n  </tbody>\n</table>\n</div>"
     },
     "metadata": {},
     "execution_count": 27
    }
   ],
   "source": [
    "in_sample = bos.loc[bos['AGE']<=45.025]\n",
    "out_sample = bos[~bos.isin(in_sample)].dropna()\n",
    "in_sample['AGE'] = np.nan\n",
    "in_sample['AGE'] = in_sample['AGE'].fillna(out_sample['AGE'].median())\n",
    "imputed_data = pd.concat([in_sample, out_sample])\n",
    "imputed_data = imputed_data.sort_index()\n",
    "\n",
    "train_set = imputed_data.iloc[train_index]\n",
    "test_set = imputed_data.iloc[test_index]\n",
    "\n",
    "X_train = train_set.iloc[:, :-1].values\n",
    "Y_train = train_set.iloc[:, -1].values\n",
    "X_test = test_set.iloc[:, :-1].values\n",
    "Y_test = test_set.iloc[:, -1].values\n",
    "\n",
    "reg2 = LinearRegression().fit(X_train, Y_train)\n",
    "print(reg2.score(X_train, Y_train))\n",
    "print(reg2.coef_)\n",
    "print(reg2.intercept_)\n",
    "print(reg2.get_params())\n",
    "\n",
    "Y_pred = reg2.predict(X_test)\n",
    "\n",
    "mae = mean_absolute_error(Y_test,Y_pred)\n",
    "mse = mean_squared_error(Y_test,Y_pred)\n",
    "rmse_val = rmse(Y_test,Y_pred)\n",
    "r2 = r2_score(Y_test,Y_pred)\n",
    "print(\"MAE: %.3f\"%mae)\n",
    "print(\"MSE:  %.3f\"%mse)\n",
    "print(\"RMSE:  %.3f\"%rmse_val)\n",
    "print(\"R2:  %.3f\"%r2)\n",
    "\n",
    "temp_frame = pd.DataFrame({'data':'25% Missing Not At Random',\n",
    "                   'imputation':'AGE',\n",
    "                   'mae': mae, \n",
    "                   'mse': mse, \n",
    "                   'rmse':rmse_val,\n",
    "                   'R2':r2,\n",
    "                   'mae_diff':mae-orig_mae,\n",
    "                   'mse_diff':mse-orig_mse,\n",
    "                   'rmse_diff':rmse_val-orig_rmse_val,\n",
    "                   'R2_diff':r2-orig_r2\n",
    "                   }, index=[0])\n",
    "\n",
    "res_frame = pd.concat([res_frame, temp_frame])\n",
    "res_frame"
   ]
  },
  {
   "cell_type": "code",
   "execution_count": 28,
   "metadata": {},
   "outputs": [
    {
     "output_type": "execute_result",
     "data": {
      "text/plain": "<matplotlib.axes._subplots.AxesSubplot at 0x1a2599fd0c8>"
     },
     "metadata": {},
     "execution_count": 28
    },
    {
     "output_type": "display_data",
     "data": {
      "text/plain": "<Figure size 432x288 with 1 Axes>",
      "image/svg+xml": "<?xml version=\"1.0\" encoding=\"utf-8\" standalone=\"no\"?>\r\n<!DOCTYPE svg PUBLIC \"-//W3C//DTD SVG 1.1//EN\"\r\n  \"http://www.w3.org/Graphics/SVG/1.1/DTD/svg11.dtd\">\r\n<!-- Created with matplotlib (https://matplotlib.org/) -->\r\n<svg height=\"248.518125pt\" version=\"1.1\" viewBox=\"0 0 362.5625 248.518125\" width=\"362.5625pt\" xmlns=\"http://www.w3.org/2000/svg\" xmlns:xlink=\"http://www.w3.org/1999/xlink\">\r\n <defs>\r\n  <style type=\"text/css\">\r\n*{stroke-linecap:butt;stroke-linejoin:round;}\r\n  </style>\r\n </defs>\r\n <g id=\"figure_1\">\r\n  <g id=\"patch_1\">\r\n   <path d=\"M 0 248.518125 \r\nL 362.5625 248.518125 \r\nL 362.5625 0 \r\nL 0 0 \r\nz\r\n\" style=\"fill:none;\"/>\r\n  </g>\r\n  <g id=\"axes_1\">\r\n   <g id=\"patch_2\">\r\n    <path d=\"M 20.5625 224.64 \r\nL 355.3625 224.64 \r\nL 355.3625 7.2 \r\nL 20.5625 7.2 \r\nz\r\n\" style=\"fill:#ffffff;\"/>\r\n   </g>\r\n   <g id=\"patch_3\">\r\n    <path clip-path=\"url(#p19be8eebe4)\" d=\"M 303.702186 224.64 \r\nL 307.346399 224.64 \r\nL 307.346399 17.554286 \r\nL 303.702186 17.554286 \r\nz\r\n\" style=\"fill:#1f77b4;\"/>\r\n   </g>\r\n   <g id=\"patch_4\">\r\n    <path clip-path=\"url(#p19be8eebe4)\" d=\"M 307.346399 224.64 \r\nL 310.990613 224.64 \r\nL 310.990613 155.611429 \r\nL 307.346399 155.611429 \r\nz\r\n\" style=\"fill:#1f77b4;\"/>\r\n   </g>\r\n   <g id=\"patch_5\">\r\n    <path clip-path=\"url(#p19be8eebe4)\" d=\"M 310.990613 224.64 \r\nL 314.634826 224.64 \r\nL 314.634826 224.64 \r\nL 310.990613 224.64 \r\nz\r\n\" style=\"fill:#1f77b4;\"/>\r\n   </g>\r\n   <g id=\"patch_6\">\r\n    <path clip-path=\"url(#p19be8eebe4)\" d=\"M 314.634826 224.64 \r\nL 318.279039 224.64 \r\nL 318.279039 224.64 \r\nL 314.634826 224.64 \r\nz\r\n\" style=\"fill:#1f77b4;\"/>\r\n   </g>\r\n   <g id=\"patch_7\">\r\n    <path clip-path=\"url(#p19be8eebe4)\" d=\"M 318.279039 224.64 \r\nL 321.923252 224.64 \r\nL 321.923252 224.64 \r\nL 318.279039 224.64 \r\nz\r\n\" style=\"fill:#1f77b4;\"/>\r\n   </g>\r\n   <g id=\"patch_8\">\r\n    <path clip-path=\"url(#p19be8eebe4)\" d=\"M 321.923252 224.64 \r\nL 325.567465 224.64 \r\nL 325.567465 224.64 \r\nL 321.923252 224.64 \r\nz\r\n\" style=\"fill:#1f77b4;\"/>\r\n   </g>\r\n   <g id=\"patch_9\">\r\n    <path clip-path=\"url(#p19be8eebe4)\" d=\"M 325.567465 224.64 \r\nL 329.211679 224.64 \r\nL 329.211679 224.64 \r\nL 325.567465 224.64 \r\nz\r\n\" style=\"fill:#1f77b4;\"/>\r\n   </g>\r\n   <g id=\"patch_10\">\r\n    <path clip-path=\"url(#p19be8eebe4)\" d=\"M 329.211679 224.64 \r\nL 332.855892 224.64 \r\nL 332.855892 190.125714 \r\nL 329.211679 190.125714 \r\nz\r\n\" style=\"fill:#1f77b4;\"/>\r\n   </g>\r\n   <g id=\"patch_11\">\r\n    <path clip-path=\"url(#p19be8eebe4)\" d=\"M 332.855892 224.64 \r\nL 336.500105 224.64 \r\nL 336.500105 190.125714 \r\nL 332.855892 190.125714 \r\nz\r\n\" style=\"fill:#1f77b4;\"/>\r\n   </g>\r\n   <g id=\"patch_12\">\r\n    <path clip-path=\"url(#p19be8eebe4)\" d=\"M 336.500105 224.64 \r\nL 340.144318 224.64 \r\nL 340.144318 190.125714 \r\nL 336.500105 190.125714 \r\nz\r\n\" style=\"fill:#1f77b4;\"/>\r\n   </g>\r\n   <g id=\"patch_13\">\r\n    <path clip-path=\"url(#p19be8eebe4)\" d=\"M 35.780682 224.64 \r\nL 39.424895 224.64 \r\nL 39.424895 17.554286 \r\nL 35.780682 17.554286 \r\nz\r\n\" style=\"fill:#ff7f0e;\"/>\r\n   </g>\r\n   <g id=\"patch_14\">\r\n    <path clip-path=\"url(#p19be8eebe4)\" d=\"M 39.424895 224.64 \r\nL 43.069108 224.64 \r\nL 43.069108 190.125714 \r\nL 39.424895 190.125714 \r\nz\r\n\" style=\"fill:#ff7f0e;\"/>\r\n   </g>\r\n   <g id=\"patch_15\">\r\n    <path clip-path=\"url(#p19be8eebe4)\" d=\"M 43.069108 224.64 \r\nL 46.713321 224.64 \r\nL 46.713321 224.64 \r\nL 43.069108 224.64 \r\nz\r\n\" style=\"fill:#ff7f0e;\"/>\r\n   </g>\r\n   <g id=\"patch_16\">\r\n    <path clip-path=\"url(#p19be8eebe4)\" d=\"M 46.713321 224.64 \r\nL 50.357535 224.64 \r\nL 50.357535 224.64 \r\nL 46.713321 224.64 \r\nz\r\n\" style=\"fill:#ff7f0e;\"/>\r\n   </g>\r\n   <g id=\"patch_17\">\r\n    <path clip-path=\"url(#p19be8eebe4)\" d=\"M 50.357535 224.64 \r\nL 54.001748 224.64 \r\nL 54.001748 224.64 \r\nL 50.357535 224.64 \r\nz\r\n\" style=\"fill:#ff7f0e;\"/>\r\n   </g>\r\n   <g id=\"patch_18\">\r\n    <path clip-path=\"url(#p19be8eebe4)\" d=\"M 54.001748 224.64 \r\nL 57.645961 224.64 \r\nL 57.645961 224.64 \r\nL 54.001748 224.64 \r\nz\r\n\" style=\"fill:#ff7f0e;\"/>\r\n   </g>\r\n   <g id=\"patch_19\">\r\n    <path clip-path=\"url(#p19be8eebe4)\" d=\"M 57.645961 224.64 \r\nL 61.290174 224.64 \r\nL 61.290174 224.64 \r\nL 57.645961 224.64 \r\nz\r\n\" style=\"fill:#ff7f0e;\"/>\r\n   </g>\r\n   <g id=\"patch_20\">\r\n    <path clip-path=\"url(#p19be8eebe4)\" d=\"M 61.290174 224.64 \r\nL 64.934387 224.64 \r\nL 64.934387 190.125714 \r\nL 61.290174 190.125714 \r\nz\r\n\" style=\"fill:#ff7f0e;\"/>\r\n   </g>\r\n   <g id=\"patch_21\">\r\n    <path clip-path=\"url(#p19be8eebe4)\" d=\"M 64.934387 224.64 \r\nL 68.578601 224.64 \r\nL 68.578601 190.125714 \r\nL 64.934387 190.125714 \r\nz\r\n\" style=\"fill:#ff7f0e;\"/>\r\n   </g>\r\n   <g id=\"patch_22\">\r\n    <path clip-path=\"url(#p19be8eebe4)\" d=\"M 68.578601 224.64 \r\nL 72.222814 224.64 \r\nL 72.222814 190.125714 \r\nL 68.578601 190.125714 \r\nz\r\n\" style=\"fill:#ff7f0e;\"/>\r\n   </g>\r\n   <g id=\"matplotlib.axis_1\">\r\n    <g id=\"xtick_1\">\r\n     <g id=\"line2d_1\">\r\n      <path clip-path=\"url(#p19be8eebe4)\" d=\"M 39.849774 224.64 \r\nL 39.849774 7.2 \r\n\" style=\"fill:none;stroke:#b0b0b0;stroke-linecap:square;stroke-width:0.8;\"/>\r\n     </g>\r\n     <g id=\"line2d_2\">\r\n      <defs>\r\n       <path d=\"M 0 0 \r\nL 0 3.5 \r\n\" id=\"mf836b2aaec\" style=\"stroke:#000000;stroke-width:0.8;\"/>\r\n      </defs>\r\n      <g>\r\n       <use style=\"stroke:#000000;stroke-width:0.8;\" x=\"39.849774\" xlink:href=\"#mf836b2aaec\" y=\"224.64\"/>\r\n      </g>\r\n     </g>\r\n     <g id=\"text_1\">\r\n      <!-- 0 -->\r\n      <defs>\r\n       <path d=\"M 31.78125 66.40625 \r\nQ 24.171875 66.40625 20.328125 58.90625 \r\nQ 16.5 51.421875 16.5 36.375 \r\nQ 16.5 21.390625 20.328125 13.890625 \r\nQ 24.171875 6.390625 31.78125 6.390625 \r\nQ 39.453125 6.390625 43.28125 13.890625 \r\nQ 47.125 21.390625 47.125 36.375 \r\nQ 47.125 51.421875 43.28125 58.90625 \r\nQ 39.453125 66.40625 31.78125 66.40625 \r\nz\r\nM 31.78125 74.21875 \r\nQ 44.046875 74.21875 50.515625 64.515625 \r\nQ 56.984375 54.828125 56.984375 36.375 \r\nQ 56.984375 17.96875 50.515625 8.265625 \r\nQ 44.046875 -1.421875 31.78125 -1.421875 \r\nQ 19.53125 -1.421875 13.0625 8.265625 \r\nQ 6.59375 17.96875 6.59375 36.375 \r\nQ 6.59375 54.828125 13.0625 64.515625 \r\nQ 19.53125 74.21875 31.78125 74.21875 \r\nz\r\n\" id=\"DejaVuSans-48\"/>\r\n      </defs>\r\n      <g transform=\"translate(36.668524 239.238437)scale(0.1 -0.1)\">\r\n       <use xlink:href=\"#DejaVuSans-48\"/>\r\n      </g>\r\n     </g>\r\n    </g>\r\n    <g id=\"xtick_2\">\r\n     <g id=\"line2d_3\">\r\n      <path clip-path=\"url(#p19be8eebe4)\" d=\"M 95.438597 224.64 \r\nL 95.438597 7.2 \r\n\" style=\"fill:none;stroke:#b0b0b0;stroke-linecap:square;stroke-width:0.8;\"/>\r\n     </g>\r\n     <g id=\"line2d_4\">\r\n      <g>\r\n       <use style=\"stroke:#000000;stroke-width:0.8;\" x=\"95.438597\" xlink:href=\"#mf836b2aaec\" y=\"224.64\"/>\r\n      </g>\r\n     </g>\r\n     <g id=\"text_2\">\r\n      <!-- 5 -->\r\n      <defs>\r\n       <path d=\"M 10.796875 72.90625 \r\nL 49.515625 72.90625 \r\nL 49.515625 64.59375 \r\nL 19.828125 64.59375 \r\nL 19.828125 46.734375 \r\nQ 21.96875 47.46875 24.109375 47.828125 \r\nQ 26.265625 48.1875 28.421875 48.1875 \r\nQ 40.625 48.1875 47.75 41.5 \r\nQ 54.890625 34.8125 54.890625 23.390625 \r\nQ 54.890625 11.625 47.5625 5.09375 \r\nQ 40.234375 -1.421875 26.90625 -1.421875 \r\nQ 22.3125 -1.421875 17.546875 -0.640625 \r\nQ 12.796875 0.140625 7.71875 1.703125 \r\nL 7.71875 11.625 \r\nQ 12.109375 9.234375 16.796875 8.0625 \r\nQ 21.484375 6.890625 26.703125 6.890625 \r\nQ 35.15625 6.890625 40.078125 11.328125 \r\nQ 45.015625 15.765625 45.015625 23.390625 \r\nQ 45.015625 31 40.078125 35.4375 \r\nQ 35.15625 39.890625 26.703125 39.890625 \r\nQ 22.75 39.890625 18.8125 39.015625 \r\nQ 14.890625 38.140625 10.796875 36.28125 \r\nz\r\n\" id=\"DejaVuSans-53\"/>\r\n      </defs>\r\n      <g transform=\"translate(92.257347 239.238437)scale(0.1 -0.1)\">\r\n       <use xlink:href=\"#DejaVuSans-53\"/>\r\n      </g>\r\n     </g>\r\n    </g>\r\n    <g id=\"xtick_3\">\r\n     <g id=\"line2d_5\">\r\n      <path clip-path=\"url(#p19be8eebe4)\" d=\"M 151.02742 224.64 \r\nL 151.02742 7.2 \r\n\" style=\"fill:none;stroke:#b0b0b0;stroke-linecap:square;stroke-width:0.8;\"/>\r\n     </g>\r\n     <g id=\"line2d_6\">\r\n      <g>\r\n       <use style=\"stroke:#000000;stroke-width:0.8;\" x=\"151.02742\" xlink:href=\"#mf836b2aaec\" y=\"224.64\"/>\r\n      </g>\r\n     </g>\r\n     <g id=\"text_3\">\r\n      <!-- 10 -->\r\n      <defs>\r\n       <path d=\"M 12.40625 8.296875 \r\nL 28.515625 8.296875 \r\nL 28.515625 63.921875 \r\nL 10.984375 60.40625 \r\nL 10.984375 69.390625 \r\nL 28.421875 72.90625 \r\nL 38.28125 72.90625 \r\nL 38.28125 8.296875 \r\nL 54.390625 8.296875 \r\nL 54.390625 0 \r\nL 12.40625 0 \r\nz\r\n\" id=\"DejaVuSans-49\"/>\r\n      </defs>\r\n      <g transform=\"translate(144.66492 239.238437)scale(0.1 -0.1)\">\r\n       <use xlink:href=\"#DejaVuSans-49\"/>\r\n       <use x=\"63.623047\" xlink:href=\"#DejaVuSans-48\"/>\r\n      </g>\r\n     </g>\r\n    </g>\r\n    <g id=\"xtick_4\">\r\n     <g id=\"line2d_7\">\r\n      <path clip-path=\"url(#p19be8eebe4)\" d=\"M 206.616243 224.64 \r\nL 206.616243 7.2 \r\n\" style=\"fill:none;stroke:#b0b0b0;stroke-linecap:square;stroke-width:0.8;\"/>\r\n     </g>\r\n     <g id=\"line2d_8\">\r\n      <g>\r\n       <use style=\"stroke:#000000;stroke-width:0.8;\" x=\"206.616243\" xlink:href=\"#mf836b2aaec\" y=\"224.64\"/>\r\n      </g>\r\n     </g>\r\n     <g id=\"text_4\">\r\n      <!-- 15 -->\r\n      <g transform=\"translate(200.253743 239.238437)scale(0.1 -0.1)\">\r\n       <use xlink:href=\"#DejaVuSans-49\"/>\r\n       <use x=\"63.623047\" xlink:href=\"#DejaVuSans-53\"/>\r\n      </g>\r\n     </g>\r\n    </g>\r\n    <g id=\"xtick_5\">\r\n     <g id=\"line2d_9\">\r\n      <path clip-path=\"url(#p19be8eebe4)\" d=\"M 262.205066 224.64 \r\nL 262.205066 7.2 \r\n\" style=\"fill:none;stroke:#b0b0b0;stroke-linecap:square;stroke-width:0.8;\"/>\r\n     </g>\r\n     <g id=\"line2d_10\">\r\n      <g>\r\n       <use style=\"stroke:#000000;stroke-width:0.8;\" x=\"262.205066\" xlink:href=\"#mf836b2aaec\" y=\"224.64\"/>\r\n      </g>\r\n     </g>\r\n     <g id=\"text_5\">\r\n      <!-- 20 -->\r\n      <defs>\r\n       <path d=\"M 19.1875 8.296875 \r\nL 53.609375 8.296875 \r\nL 53.609375 0 \r\nL 7.328125 0 \r\nL 7.328125 8.296875 \r\nQ 12.9375 14.109375 22.625 23.890625 \r\nQ 32.328125 33.6875 34.8125 36.53125 \r\nQ 39.546875 41.84375 41.421875 45.53125 \r\nQ 43.3125 49.21875 43.3125 52.78125 \r\nQ 43.3125 58.59375 39.234375 62.25 \r\nQ 35.15625 65.921875 28.609375 65.921875 \r\nQ 23.96875 65.921875 18.8125 64.3125 \r\nQ 13.671875 62.703125 7.8125 59.421875 \r\nL 7.8125 69.390625 \r\nQ 13.765625 71.78125 18.9375 73 \r\nQ 24.125 74.21875 28.421875 74.21875 \r\nQ 39.75 74.21875 46.484375 68.546875 \r\nQ 53.21875 62.890625 53.21875 53.421875 \r\nQ 53.21875 48.921875 51.53125 44.890625 \r\nQ 49.859375 40.875 45.40625 35.40625 \r\nQ 44.1875 33.984375 37.640625 27.21875 \r\nQ 31.109375 20.453125 19.1875 8.296875 \r\nz\r\n\" id=\"DejaVuSans-50\"/>\r\n      </defs>\r\n      <g transform=\"translate(255.842566 239.238437)scale(0.1 -0.1)\">\r\n       <use xlink:href=\"#DejaVuSans-50\"/>\r\n       <use x=\"63.623047\" xlink:href=\"#DejaVuSans-48\"/>\r\n      </g>\r\n     </g>\r\n    </g>\r\n    <g id=\"xtick_6\">\r\n     <g id=\"line2d_11\">\r\n      <path clip-path=\"url(#p19be8eebe4)\" d=\"M 317.793889 224.64 \r\nL 317.793889 7.2 \r\n\" style=\"fill:none;stroke:#b0b0b0;stroke-linecap:square;stroke-width:0.8;\"/>\r\n     </g>\r\n     <g id=\"line2d_12\">\r\n      <g>\r\n       <use style=\"stroke:#000000;stroke-width:0.8;\" x=\"317.793889\" xlink:href=\"#mf836b2aaec\" y=\"224.64\"/>\r\n      </g>\r\n     </g>\r\n     <g id=\"text_6\">\r\n      <!-- 25 -->\r\n      <g transform=\"translate(311.431389 239.238437)scale(0.1 -0.1)\">\r\n       <use xlink:href=\"#DejaVuSans-50\"/>\r\n       <use x=\"63.623047\" xlink:href=\"#DejaVuSans-53\"/>\r\n      </g>\r\n     </g>\r\n    </g>\r\n   </g>\r\n   <g id=\"matplotlib.axis_2\">\r\n    <g id=\"ytick_1\">\r\n     <g id=\"line2d_13\">\r\n      <path clip-path=\"url(#p19be8eebe4)\" d=\"M 20.5625 224.64 \r\nL 355.3625 224.64 \r\n\" style=\"fill:none;stroke:#b0b0b0;stroke-linecap:square;stroke-width:0.8;\"/>\r\n     </g>\r\n     <g id=\"line2d_14\">\r\n      <defs>\r\n       <path d=\"M 0 0 \r\nL -3.5 0 \r\n\" id=\"mec91b59c24\" style=\"stroke:#000000;stroke-width:0.8;\"/>\r\n      </defs>\r\n      <g>\r\n       <use style=\"stroke:#000000;stroke-width:0.8;\" x=\"20.5625\" xlink:href=\"#mec91b59c24\" y=\"224.64\"/>\r\n      </g>\r\n     </g>\r\n     <g id=\"text_7\">\r\n      <!-- 0 -->\r\n      <g transform=\"translate(7.2 228.439219)scale(0.1 -0.1)\">\r\n       <use xlink:href=\"#DejaVuSans-48\"/>\r\n      </g>\r\n     </g>\r\n    </g>\r\n    <g id=\"ytick_2\">\r\n     <g id=\"line2d_15\">\r\n      <path clip-path=\"url(#p19be8eebe4)\" d=\"M 20.5625 190.125714 \r\nL 355.3625 190.125714 \r\n\" style=\"fill:none;stroke:#b0b0b0;stroke-linecap:square;stroke-width:0.8;\"/>\r\n     </g>\r\n     <g id=\"line2d_16\">\r\n      <g>\r\n       <use style=\"stroke:#000000;stroke-width:0.8;\" x=\"20.5625\" xlink:href=\"#mec91b59c24\" y=\"190.125714\"/>\r\n      </g>\r\n     </g>\r\n     <g id=\"text_8\">\r\n      <!-- 1 -->\r\n      <g transform=\"translate(7.2 193.924933)scale(0.1 -0.1)\">\r\n       <use xlink:href=\"#DejaVuSans-49\"/>\r\n      </g>\r\n     </g>\r\n    </g>\r\n    <g id=\"ytick_3\">\r\n     <g id=\"line2d_17\">\r\n      <path clip-path=\"url(#p19be8eebe4)\" d=\"M 20.5625 155.611429 \r\nL 355.3625 155.611429 \r\n\" style=\"fill:none;stroke:#b0b0b0;stroke-linecap:square;stroke-width:0.8;\"/>\r\n     </g>\r\n     <g id=\"line2d_18\">\r\n      <g>\r\n       <use style=\"stroke:#000000;stroke-width:0.8;\" x=\"20.5625\" xlink:href=\"#mec91b59c24\" y=\"155.611429\"/>\r\n      </g>\r\n     </g>\r\n     <g id=\"text_9\">\r\n      <!-- 2 -->\r\n      <g transform=\"translate(7.2 159.410647)scale(0.1 -0.1)\">\r\n       <use xlink:href=\"#DejaVuSans-50\"/>\r\n      </g>\r\n     </g>\r\n    </g>\r\n    <g id=\"ytick_4\">\r\n     <g id=\"line2d_19\">\r\n      <path clip-path=\"url(#p19be8eebe4)\" d=\"M 20.5625 121.097143 \r\nL 355.3625 121.097143 \r\n\" style=\"fill:none;stroke:#b0b0b0;stroke-linecap:square;stroke-width:0.8;\"/>\r\n     </g>\r\n     <g id=\"line2d_20\">\r\n      <g>\r\n       <use style=\"stroke:#000000;stroke-width:0.8;\" x=\"20.5625\" xlink:href=\"#mec91b59c24\" y=\"121.097143\"/>\r\n      </g>\r\n     </g>\r\n     <g id=\"text_10\">\r\n      <!-- 3 -->\r\n      <defs>\r\n       <path d=\"M 40.578125 39.3125 \r\nQ 47.65625 37.796875 51.625 33 \r\nQ 55.609375 28.21875 55.609375 21.1875 \r\nQ 55.609375 10.40625 48.1875 4.484375 \r\nQ 40.765625 -1.421875 27.09375 -1.421875 \r\nQ 22.515625 -1.421875 17.65625 -0.515625 \r\nQ 12.796875 0.390625 7.625 2.203125 \r\nL 7.625 11.71875 \r\nQ 11.71875 9.328125 16.59375 8.109375 \r\nQ 21.484375 6.890625 26.8125 6.890625 \r\nQ 36.078125 6.890625 40.9375 10.546875 \r\nQ 45.796875 14.203125 45.796875 21.1875 \r\nQ 45.796875 27.640625 41.28125 31.265625 \r\nQ 36.765625 34.90625 28.71875 34.90625 \r\nL 20.21875 34.90625 \r\nL 20.21875 43.015625 \r\nL 29.109375 43.015625 \r\nQ 36.375 43.015625 40.234375 45.921875 \r\nQ 44.09375 48.828125 44.09375 54.296875 \r\nQ 44.09375 59.90625 40.109375 62.90625 \r\nQ 36.140625 65.921875 28.71875 65.921875 \r\nQ 24.65625 65.921875 20.015625 65.03125 \r\nQ 15.375 64.15625 9.8125 62.3125 \r\nL 9.8125 71.09375 \r\nQ 15.4375 72.65625 20.34375 73.4375 \r\nQ 25.25 74.21875 29.59375 74.21875 \r\nQ 40.828125 74.21875 47.359375 69.109375 \r\nQ 53.90625 64.015625 53.90625 55.328125 \r\nQ 53.90625 49.265625 50.4375 45.09375 \r\nQ 46.96875 40.921875 40.578125 39.3125 \r\nz\r\n\" id=\"DejaVuSans-51\"/>\r\n      </defs>\r\n      <g transform=\"translate(7.2 124.896362)scale(0.1 -0.1)\">\r\n       <use xlink:href=\"#DejaVuSans-51\"/>\r\n      </g>\r\n     </g>\r\n    </g>\r\n    <g id=\"ytick_5\">\r\n     <g id=\"line2d_21\">\r\n      <path clip-path=\"url(#p19be8eebe4)\" d=\"M 20.5625 86.582857 \r\nL 355.3625 86.582857 \r\n\" style=\"fill:none;stroke:#b0b0b0;stroke-linecap:square;stroke-width:0.8;\"/>\r\n     </g>\r\n     <g id=\"line2d_22\">\r\n      <g>\r\n       <use style=\"stroke:#000000;stroke-width:0.8;\" x=\"20.5625\" xlink:href=\"#mec91b59c24\" y=\"86.582857\"/>\r\n      </g>\r\n     </g>\r\n     <g id=\"text_11\">\r\n      <!-- 4 -->\r\n      <defs>\r\n       <path d=\"M 37.796875 64.3125 \r\nL 12.890625 25.390625 \r\nL 37.796875 25.390625 \r\nz\r\nM 35.203125 72.90625 \r\nL 47.609375 72.90625 \r\nL 47.609375 25.390625 \r\nL 58.015625 25.390625 \r\nL 58.015625 17.1875 \r\nL 47.609375 17.1875 \r\nL 47.609375 0 \r\nL 37.796875 0 \r\nL 37.796875 17.1875 \r\nL 4.890625 17.1875 \r\nL 4.890625 26.703125 \r\nz\r\n\" id=\"DejaVuSans-52\"/>\r\n      </defs>\r\n      <g transform=\"translate(7.2 90.382076)scale(0.1 -0.1)\">\r\n       <use xlink:href=\"#DejaVuSans-52\"/>\r\n      </g>\r\n     </g>\r\n    </g>\r\n    <g id=\"ytick_6\">\r\n     <g id=\"line2d_23\">\r\n      <path clip-path=\"url(#p19be8eebe4)\" d=\"M 20.5625 52.068571 \r\nL 355.3625 52.068571 \r\n\" style=\"fill:none;stroke:#b0b0b0;stroke-linecap:square;stroke-width:0.8;\"/>\r\n     </g>\r\n     <g id=\"line2d_24\">\r\n      <g>\r\n       <use style=\"stroke:#000000;stroke-width:0.8;\" x=\"20.5625\" xlink:href=\"#mec91b59c24\" y=\"52.068571\"/>\r\n      </g>\r\n     </g>\r\n     <g id=\"text_12\">\r\n      <!-- 5 -->\r\n      <g transform=\"translate(7.2 55.86779)scale(0.1 -0.1)\">\r\n       <use xlink:href=\"#DejaVuSans-53\"/>\r\n      </g>\r\n     </g>\r\n    </g>\r\n    <g id=\"ytick_7\">\r\n     <g id=\"line2d_25\">\r\n      <path clip-path=\"url(#p19be8eebe4)\" d=\"M 20.5625 17.554286 \r\nL 355.3625 17.554286 \r\n\" style=\"fill:none;stroke:#b0b0b0;stroke-linecap:square;stroke-width:0.8;\"/>\r\n     </g>\r\n     <g id=\"line2d_26\">\r\n      <g>\r\n       <use style=\"stroke:#000000;stroke-width:0.8;\" x=\"20.5625\" xlink:href=\"#mec91b59c24\" y=\"17.554286\"/>\r\n      </g>\r\n     </g>\r\n     <g id=\"text_13\">\r\n      <!-- 6 -->\r\n      <defs>\r\n       <path d=\"M 33.015625 40.375 \r\nQ 26.375 40.375 22.484375 35.828125 \r\nQ 18.609375 31.296875 18.609375 23.390625 \r\nQ 18.609375 15.53125 22.484375 10.953125 \r\nQ 26.375 6.390625 33.015625 6.390625 \r\nQ 39.65625 6.390625 43.53125 10.953125 \r\nQ 47.40625 15.53125 47.40625 23.390625 \r\nQ 47.40625 31.296875 43.53125 35.828125 \r\nQ 39.65625 40.375 33.015625 40.375 \r\nz\r\nM 52.59375 71.296875 \r\nL 52.59375 62.3125 \r\nQ 48.875 64.0625 45.09375 64.984375 \r\nQ 41.3125 65.921875 37.59375 65.921875 \r\nQ 27.828125 65.921875 22.671875 59.328125 \r\nQ 17.53125 52.734375 16.796875 39.40625 \r\nQ 19.671875 43.65625 24.015625 45.921875 \r\nQ 28.375 48.1875 33.59375 48.1875 \r\nQ 44.578125 48.1875 50.953125 41.515625 \r\nQ 57.328125 34.859375 57.328125 23.390625 \r\nQ 57.328125 12.15625 50.6875 5.359375 \r\nQ 44.046875 -1.421875 33.015625 -1.421875 \r\nQ 20.359375 -1.421875 13.671875 8.265625 \r\nQ 6.984375 17.96875 6.984375 36.375 \r\nQ 6.984375 53.65625 15.1875 63.9375 \r\nQ 23.390625 74.21875 37.203125 74.21875 \r\nQ 40.921875 74.21875 44.703125 73.484375 \r\nQ 48.484375 72.75 52.59375 71.296875 \r\nz\r\n\" id=\"DejaVuSans-54\"/>\r\n      </defs>\r\n      <g transform=\"translate(7.2 21.353504)scale(0.1 -0.1)\">\r\n       <use xlink:href=\"#DejaVuSans-54\"/>\r\n      </g>\r\n     </g>\r\n    </g>\r\n   </g>\r\n   <g id=\"patch_23\">\r\n    <path d=\"M 20.5625 224.64 \r\nL 20.5625 7.2 \r\n\" style=\"fill:none;stroke:#000000;stroke-linecap:square;stroke-linejoin:miter;stroke-width:0.8;\"/>\r\n   </g>\r\n   <g id=\"patch_24\">\r\n    <path d=\"M 355.3625 224.64 \r\nL 355.3625 7.2 \r\n\" style=\"fill:none;stroke:#000000;stroke-linecap:square;stroke-linejoin:miter;stroke-width:0.8;\"/>\r\n   </g>\r\n   <g id=\"patch_25\">\r\n    <path d=\"M 20.5625 224.64 \r\nL 355.3625 224.64 \r\n\" style=\"fill:none;stroke:#000000;stroke-linecap:square;stroke-linejoin:miter;stroke-width:0.8;\"/>\r\n   </g>\r\n   <g id=\"patch_26\">\r\n    <path d=\"M 20.5625 7.2 \r\nL 355.3625 7.2 \r\n\" style=\"fill:none;stroke:#000000;stroke-linecap:square;stroke-linejoin:miter;stroke-width:0.8;\"/>\r\n   </g>\r\n  </g>\r\n </g>\r\n <defs>\r\n  <clipPath id=\"p19be8eebe4\">\r\n   <rect height=\"217.44\" width=\"334.8\" x=\"20.5625\" y=\"7.2\"/>\r\n  </clipPath>\r\n </defs>\r\n</svg>\r\n",
      "image/png": "[encoded data removed]"
     },
     "metadata": {
      "needs_background": "light"
     }
    }
   ],
   "source": [
    "res_frame['mse'].hist()\n",
    "res_frame['mse_diff'].hist()"
   ]
  },
  {
   "cell_type": "markdown",
   "metadata": {},
   "source": [
    "## Summary"
   ]
  },
  {
   "cell_type": "markdown",
   "metadata": {},
   "source": [
    "For each of the missing values we selected AGE as our target column for missing values. In every example we used the median age to impute, given the strong right skew in the histogram. In each imputation, we see a decrease in the mean squared error, with the greatest reduction appearing in the 25% not missing at random. This is likely due to how we removed the data: since we removed the 25% quartile of the values, we naturally skewed the age further to the right. Since our median remained the same, this likely normalized the variable and made the model more resilient. However, it is unclear if this is actually more \"accurate\" since the age would not be reflective of reality in this case."
   ]
  },
  {
   "cell_type": "code",
   "execution_count": null,
   "metadata": {},
   "outputs": [],
   "source": []
  }
 ],
 "metadata": {
  "kernelspec": {
   "display_name": "Python 3.7.4 64-bit ('MachineLearning': conda)",
   "language": "python",
   "name": "python37464bitmachinelearningconda0677930e300843d298327b869ad2eda0"
  },
  "language_info": {
   "codemirror_mode": {
    "name": "ipython",
    "version": 3
   },
   "file_extension": ".py",
   "mimetype": "text/x-python",
   "name": "python",
   "nbconvert_exporter": "python",
   "pygments_lexer": "ipython3",
   "version": "3.7.7-final"
  }
 },
 "nbformat": 4,
 "nbformat_minor": 4
}